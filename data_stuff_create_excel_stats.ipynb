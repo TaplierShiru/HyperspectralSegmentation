{
 "cells": [
  {
   "cell_type": "code",
   "execution_count": null,
   "id": "c39fc876",
   "metadata": {},
   "outputs": [],
   "source": [
    "import os\n",
    "os.environ['CUDA_VISIBLE_DEVICES'] = \"-1\"\n",
    "\n",
    "import sys\n",
    "sys.path.append('/home/rustam/hyperspecter_segmentation/makitorch')\n",
    "sys.path.append('/home/rustam/hyperspecter_segmentation/')\n",
    "import numpy as np\n",
    "import matplotlib.pyplot as plt\n",
    "import seaborn as sns\n",
    "from scipy.ndimage import gaussian_filter\n",
    "import cv2\n",
    "from hsi_dataset_api import HsiDataset\n",
    "from makitorch.dataloaders.HsiDataloader import HsiDataloader\n",
    "\n",
    "import numpy as np\n",
    "import pytorch_lightning as pl\n",
    "from pytorch_lightning.callbacks import ModelCheckpoint\n",
    "import torch.optim as optim\n",
    "import torch\n",
    "import torch.nn as nn\n",
    "import torch.nn.functional as F\n",
    "import torch.optim as optim\n",
    "from torchvision import transforms as T\n",
    "import torchvision.transforms.functional as TF\n",
    "from torchvision import utils\n",
    "import cv2\n",
    "from Losses import FocalLoss\n",
    "import matplotlib.pyplot as plt\n",
    "\n",
    "import seaborn as sns\n",
    "import json\n",
    "\n",
    "from tqdm import tqdm"
   ]
  },
  {
   "cell_type": "code",
   "execution_count": null,
   "id": "a2b88000",
   "metadata": {},
   "outputs": [],
   "source": [
    "path = '/raid/rustam/hyperspectral_dataset/new_cropped_hsi_data'"
   ]
  },
  {
   "cell_type": "code",
   "execution_count": null,
   "id": "450e7b8e",
   "metadata": {},
   "outputs": [],
   "source": [
    "dataset = HsiDataset(path)"
   ]
  },
  {
   "cell_type": "code",
   "execution_count": null,
   "id": "6ce4e401",
   "metadata": {},
   "outputs": [],
   "source": [
    "images = []\n",
    "masks = []\n",
    "img_indxs = []\n",
    "\n",
    "for idx, data_point in enumerate(dataset.data_iterator(opened=True, shuffle=False)):\n",
    "    images.append(data_point.hsi)\n",
    "    masks.append(data_point.mask)\n",
    "    img_indxs.append(idx)"
   ]
  },
  {
   "cell_type": "code",
   "execution_count": null,
   "id": "3f101f57",
   "metadata": {
    "scrolled": true
   },
   "outputs": [],
   "source": [
    "data_stats = dict()\n",
    "\n",
    "for mask_s, img_indx in tqdm(zip(masks, img_indxs)):\n",
    "    mask_s = mask_s[..., 0]\n",
    "    # Calculate number of classes and their percentage on current image\n",
    "    data_single = dict()\n",
    "    \n",
    "    for i in range(17):\n",
    "        data_single.update({f\"{i}\": np.nan})\n",
    "        data_single.update({f\"{i}_p\": np.nan})\n",
    "        \n",
    "    \n",
    "    for c_s in np.unique(mask_s):\n",
    "        data_single[str(c_s)] = 1\n",
    "        data_single[str(c_s) + '_p'] = np.sum(mask_s == c_s) / np.prod(mask_s.shape)\n",
    "    \n",
    "    data_stats[str(img_indx)] = data_single\n"
   ]
  },
  {
   "cell_type": "code",
   "execution_count": null,
   "id": "42b8179b",
   "metadata": {},
   "outputs": [],
   "source": [
    "import pandas as pd\n",
    "import math"
   ]
  },
  {
   "cell_type": "code",
   "execution_count": null,
   "id": "20b930e1",
   "metadata": {},
   "outputs": [],
   "source": [
    "df = pd.DataFrame(data_stats).T\n",
    "df"
   ]
  },
  {
   "cell_type": "code",
   "execution_count": null,
   "id": "8f5d42de",
   "metadata": {},
   "outputs": [],
   "source": [
    "df.to_excel('data.xlsx')"
   ]
  },
  {
   "cell_type": "code",
   "execution_count": null,
   "id": "bc56809c",
   "metadata": {},
   "outputs": [],
   "source": []
  },
  {
   "cell_type": "code",
   "execution_count": null,
   "id": "a96edf60",
   "metadata": {},
   "outputs": [],
   "source": [
    "pd.read_excel('разбиение на фолды — копия.xlsx')"
   ]
  },
  {
   "cell_type": "code",
   "execution_count": null,
   "id": "c6904e80",
   "metadata": {},
   "outputs": [],
   "source": []
  }
 ],
 "metadata": {
  "kernelspec": {
   "display_name": "Python 3",
   "language": "python",
   "name": "python3"
  },
  "language_info": {
   "codemirror_mode": {
    "name": "ipython",
    "version": 3
   },
   "file_extension": ".py",
   "mimetype": "text/x-python",
   "name": "python",
   "nbconvert_exporter": "python",
   "pygments_lexer": "ipython3",
   "version": "3.8.8"
  }
 },
 "nbformat": 4,
 "nbformat_minor": 5
}

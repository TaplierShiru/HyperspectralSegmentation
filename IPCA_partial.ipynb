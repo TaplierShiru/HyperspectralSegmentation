{
 "cells": [
  {
   "cell_type": "code",
   "execution_count": null,
   "id": "060c1cee",
   "metadata": {},
   "outputs": [],
   "source": [
    "import os\n",
    "os.environ['CUDA_VISIBLE_DEVICES'] = \"2\"\n",
    "\n",
    "import sys\n",
    "sys.path.append('/home/rustam/hyperspecter_segmentation/makitorch')"
   ]
  },
  {
   "cell_type": "code",
   "execution_count": null,
   "id": "ab5d24d7",
   "metadata": {},
   "outputs": [],
   "source": [
    "import numpy as np\n",
    "import torch\n",
    "import matplotlib.pyplot as plt\n",
    "import seaborn as sns\n",
    "\n",
    "from sklearn.decomposition import IncrementalPCA\n",
    "from hsi_dataset_api import HsiDataset\n",
    "\n",
    "from makitorch.dataloaders.HsiDataloader import HsiDataloader\n",
    "\n",
    "from tqdm import tqdm"
   ]
  },
  {
   "cell_type": "code",
   "execution_count": null,
   "id": "e27e6404",
   "metadata": {},
   "outputs": [],
   "source": [
    "train_indices = np.load('kfold0_indx_train.npy')"
   ]
  },
  {
   "cell_type": "code",
   "execution_count": null,
   "id": "0d17c97c",
   "metadata": {},
   "outputs": [],
   "source": [
    "BATCH_SIZE = 32\n",
    "dataset_hsi_loader = HsiDataloader(\n",
    "    '/raid/rustam/hyperspectral_dataset/new_cropped_hsi_data', \n",
    "    indices=train_indices,\n",
    "    shuffle_data=True\n",
    ")\n",
    "\n",
    "data_loader = torch.utils.data.DataLoader(dataset_hsi_loader, batch_size=BATCH_SIZE)"
   ]
  },
  {
   "cell_type": "code",
   "execution_count": null,
   "id": "63178722",
   "metadata": {},
   "outputs": [],
   "source": [
    "ipca = IncrementalPCA(n_components=17, whiten=True, batch_size=BATCH_SIZE)\n",
    "\n",
    "iterator = tqdm(data_loader)\n",
    "\n",
    "for img_batch, _ in iterator:\n",
    "    # (N, C, H, W) --> (N, H, W, C)\n",
    "    img_batch = img_batch.permute(0, 2, 3, 1)\n",
    "    # (N, H, W, C) --> (N * H * W, C)\n",
    "    img_batch = img_batch.reshape(-1, img_batch.shape[-1]).numpy()\n",
    "    ipca.partial_fit(img_batch)\n",
    "iterator.close()"
   ]
  },
  {
   "cell_type": "code",
   "execution_count": null,
   "id": "0b0e6dd2",
   "metadata": {},
   "outputs": [],
   "source": [
    "ipca.components_"
   ]
  },
  {
   "cell_type": "code",
   "execution_count": null,
   "id": "e2a7dede",
   "metadata": {},
   "outputs": [],
   "source": [
    "ipca.components_.shape"
   ]
  },
  {
   "cell_type": "code",
   "execution_count": null,
   "id": "3e90e0aa",
   "metadata": {},
   "outputs": [],
   "source": [
    "ipca.explained_variance_"
   ]
  },
  {
   "cell_type": "code",
   "execution_count": null,
   "id": "f3f8dcea",
   "metadata": {
    "scrolled": true
   },
   "outputs": [],
   "source": [
    "ipca.mean_ "
   ]
  },
  {
   "cell_type": "code",
   "execution_count": null,
   "id": "bd20b7ca",
   "metadata": {},
   "outputs": [],
   "source": [
    "np.save('kfold0_PcaExplainedVariance_.npy', ipca.explained_variance_)\n",
    "np.save('kfold0_PcaMean.npy', ipca.mean_)\n",
    "np.save('kfold0_PcaComponents.npy', ipca.components_)"
   ]
  },
  {
   "cell_type": "code",
   "execution_count": null,
   "id": "992110ce",
   "metadata": {},
   "outputs": [],
   "source": [
    "ipca.explained_variance_"
   ]
  },
  {
   "cell_type": "code",
   "execution_count": null,
   "id": "81ac44e5",
   "metadata": {},
   "outputs": [],
   "source": []
  }
 ],
 "metadata": {
  "kernelspec": {
   "display_name": "Python 3",
   "language": "python",
   "name": "python3"
  },
  "language_info": {
   "codemirror_mode": {
    "name": "ipython",
    "version": 3
   },
   "file_extension": ".py",
   "mimetype": "text/x-python",
   "name": "python",
   "nbconvert_exporter": "python",
   "pygments_lexer": "ipython3",
   "version": "3.8.8"
  }
 },
 "nbformat": 4,
 "nbformat_minor": 5
}

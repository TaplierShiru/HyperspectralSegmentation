{
 "cells": [
  {
   "cell_type": "code",
   "execution_count": null,
   "id": "c39fc876",
   "metadata": {},
   "outputs": [],
   "source": [
    "import os\n",
    "os.environ['CUDA_VISIBLE_DEVICES'] = \"0\"\n",
    "\n",
    "import sys\n",
    "sys.path.append('/home/rustam/hyperspecter_segmentation/makitorch')\n",
    "sys.path.append('/home/rustam/hyperspecter_segmentation/')\n",
    "\n",
    "import numpy as np\n",
    "import matplotlib.pyplot as plt\n",
    "import seaborn as sns\n",
    "from scipy.ndimage import gaussian_filter\n",
    "import cv2\n",
    "from hsi_dataset_api import HsiDataset"
   ]
  },
  {
   "cell_type": "code",
   "execution_count": null,
   "id": "3862871b",
   "metadata": {},
   "outputs": [],
   "source": [
    "pca_explained_variance = np.load('../PcaExplainedVariance_.npy')\n",
    "pca_mean = np.load('../PcaMean.npy')\n",
    "pca_components = np.load('../PcaComponents.npy')"
   ]
  },
  {
   "cell_type": "code",
   "execution_count": null,
   "id": "b064fb3c",
   "metadata": {},
   "outputs": [],
   "source": [
    "def pca_transformation(x):\n",
    "    x_t = np.reshape(x, (x.shape[0], -1)) # (C, H, W) -> (C, H * W)\n",
    "    x_t = np.swapaxes(x_t, 0, 1) # (C, H * W) -> (H * W, C)\n",
    "    x_t = x_t - pca_mean\n",
    "    x_t = np.dot(x_t, pca_components.T) / np.sqrt(pca_explained_variance)\n",
    "    return np.reshape(x_t, (x.shape[1], x.shape[2], pca_components.shape[0])).astype(np.float32) # (H, W, N)"
   ]
  },
  {
   "cell_type": "code",
   "execution_count": null,
   "id": "a2b88000",
   "metadata": {},
   "outputs": [],
   "source": [
    "test_indices = np.load('../test_indices.npy')\n",
    "train_indices = np.load('../train_indices.npy')\n",
    "path = '/raid/rustam/hyperspectral_dataset/new_cropped_hsi_data/'"
   ]
  },
  {
   "cell_type": "code",
   "execution_count": null,
   "id": "45a3f6ed",
   "metadata": {},
   "outputs": [],
   "source": [
    "dataset = HsiDataset(path)"
   ]
  },
  {
   "cell_type": "code",
   "execution_count": null,
   "id": "5ec22012",
   "metadata": {},
   "outputs": [],
   "source": [
    "images = []\n",
    "masks = []\n",
    "\n",
    "for idx, data_point in enumerate(dataset.data_iterator(opened=True, shuffle=False)):\n",
    "    if train_indices is not None and idx not in train_indices:\n",
    "        continue\n",
    "    images.append(data_point.hsi)\n",
    "    masks.append(data_point.mask)"
   ]
  },
  {
   "cell_type": "code",
   "execution_count": null,
   "id": "97a30fda",
   "metadata": {},
   "outputs": [],
   "source": [
    "class2count = dict([(f'{i}', 0) for i in range(17)])\n",
    "for mask in masks:\n",
    "    for i in range(17):\n",
    "        if i in mask:\n",
    "            class2count[str(i)] += 1\n",
    "class2count"
   ]
  },
  {
   "cell_type": "code",
   "execution_count": null,
   "id": "7bcffcc6",
   "metadata": {},
   "outputs": [],
   "source": [
    "test_class2count = class2count"
   ]
  },
  {
   "cell_type": "code",
   "execution_count": null,
   "id": "6964efe3",
   "metadata": {},
   "outputs": [],
   "source": [
    "for key in class2count.keys():\n",
    "    print(f\"Class={key.zfill(2)} count_train={str(class2count[key]).zfill(3)} count_test={str(test_class2count[key]).zfill(2)}\")"
   ]
  },
  {
   "cell_type": "code",
   "execution_count": null,
   "id": "fe9aff7d",
   "metadata": {},
   "outputs": [],
   "source": [
    "find_class = 16"
   ]
  },
  {
   "cell_type": "code",
   "execution_count": null,
   "id": "782e1fc3",
   "metadata": {},
   "outputs": [],
   "source": [
    "found_indx = []\n",
    "for m in range(len(masks)):\n",
    "    if find_class in masks[m]:\n",
    "        found_indx.append(m)\n",
    "found_indx"
   ]
  },
  {
   "cell_type": "code",
   "execution_count": null,
   "id": "78b8deac",
   "metadata": {},
   "outputs": [],
   "source": [
    "i = 0"
   ]
  },
  {
   "cell_type": "code",
   "execution_count": null,
   "id": "60cd828a",
   "metadata": {},
   "outputs": [],
   "source": [
    "i +=1"
   ]
  },
  {
   "cell_type": "code",
   "execution_count": null,
   "id": "ab351fb0",
   "metadata": {},
   "outputs": [],
   "source": [
    "indx_taken = found_indx[i]\n",
    "\n",
    "hyperspecter = images[indx_taken].copy()\n",
    "h_pca = pca_transformation(hyperspecter)\n",
    "mask = masks[indx_taken].copy()"
   ]
  },
  {
   "cell_type": "code",
   "execution_count": null,
   "id": "86cfbf64",
   "metadata": {},
   "outputs": [],
   "source": [
    "hyperspecter.shape, h_pca.shape, np.unique(mask)"
   ]
  },
  {
   "cell_type": "code",
   "execution_count": null,
   "id": "fd7b9096",
   "metadata": {},
   "outputs": [],
   "source": [
    "sns.heatmap(h_pca[..., 0])"
   ]
  },
  {
   "cell_type": "code",
   "execution_count": null,
   "id": "9a9479f7",
   "metadata": {},
   "outputs": [],
   "source": [
    "sns.heatmap(hyperspecter[120])"
   ]
  },
  {
   "cell_type": "code",
   "execution_count": null,
   "id": "fb8c7f32",
   "metadata": {},
   "outputs": [],
   "source": [
    "normed_h = (hyperspecter - hyperspecter.min()) / (hyperspecter.max() - hyperspecter.min())"
   ]
  },
  {
   "cell_type": "code",
   "execution_count": null,
   "id": "965a685a",
   "metadata": {},
   "outputs": [],
   "source": [
    "sns.heatmap(normed_h[200])"
   ]
  },
  {
   "cell_type": "code",
   "execution_count": null,
   "id": "4c465e84",
   "metadata": {},
   "outputs": [],
   "source": []
  },
  {
   "cell_type": "code",
   "execution_count": null,
   "id": "224cc81b",
   "metadata": {},
   "outputs": [],
   "source": [
    "plt.figure(figsize=(12,12))\n",
    "sns.heatmap(mask[..., 0])"
   ]
  },
  {
   "cell_type": "code",
   "execution_count": null,
   "id": "d70f7e8a",
   "metadata": {},
   "outputs": [],
   "source": [
    "mask_s = mask[..., 0].copy()"
   ]
  },
  {
   "cell_type": "code",
   "execution_count": null,
   "id": "c98c4bec",
   "metadata": {},
   "outputs": [],
   "source": [
    "from sklearn.metrics import jaccard_score"
   ]
  },
  {
   "cell_type": "code",
   "execution_count": null,
   "id": "9a0c6438",
   "metadata": {},
   "outputs": [],
   "source": [
    "def matrix2onehot(matrix, num_classes=17):\n",
    "    matrix = matrix.copy().reshape(-1)\n",
    "    one_hoted = np.zeros((matrix.size, num_classes-1))\n",
    "    one_hoted[np.arange(matrix.size),matrix] = 1\n",
    "    return one_hoted"
   ]
  },
  {
   "cell_type": "code",
   "execution_count": null,
   "id": "cb94158d",
   "metadata": {},
   "outputs": [],
   "source": [
    "mask_s.shape"
   ]
  },
  {
   "cell_type": "code",
   "execution_count": null,
   "id": "f1329238",
   "metadata": {},
   "outputs": [],
   "source": [
    "one_hoted = matrix2onehot(mask_s)\n",
    "res = jaccard_score(one_hoted, one_hoted, average=None, zero_division=1)\n",
    "res, res.shape, res.mean()"
   ]
  },
  {
   "cell_type": "code",
   "execution_count": null,
   "id": "e40315ef",
   "metadata": {},
   "outputs": [],
   "source": [
    "np.unique(mask_s)"
   ]
  },
  {
   "cell_type": "code",
   "execution_count": null,
   "id": "9d12333b",
   "metadata": {},
   "outputs": [],
   "source": []
  },
  {
   "cell_type": "code",
   "execution_count": null,
   "id": "ebae55e5",
   "metadata": {},
   "outputs": [],
   "source": [
    "meta"
   ]
  },
  {
   "cell_type": "code",
   "execution_count": null,
   "id": "997cf36a",
   "metadata": {},
   "outputs": [],
   "source": [
    "mask_filtered = gaussian_filter(mask[..., 0], 0.5)"
   ]
  },
  {
   "cell_type": "code",
   "execution_count": null,
   "id": "5bc8cc9c",
   "metadata": {},
   "outputs": [],
   "source": [
    "sns.heatmap(mask_filtered)"
   ]
  },
  {
   "cell_type": "code",
   "execution_count": null,
   "id": "9f2496f4",
   "metadata": {},
   "outputs": [],
   "source": []
  },
  {
   "cell_type": "code",
   "execution_count": null,
   "id": "fc3ee93e",
   "metadata": {},
   "outputs": [],
   "source": [
    "mask_filtered = cv2.blur(mask[..., 0], (4,4))"
   ]
  },
  {
   "cell_type": "code",
   "execution_count": null,
   "id": "73635ad7",
   "metadata": {},
   "outputs": [],
   "source": [
    "sns.heatmap(mask_filtered)"
   ]
  },
  {
   "cell_type": "code",
   "execution_count": null,
   "id": "55c4eeea",
   "metadata": {},
   "outputs": [],
   "source": []
  },
  {
   "cell_type": "code",
   "execution_count": null,
   "id": "0278b5d1",
   "metadata": {},
   "outputs": [],
   "source": [
    "mask_filtered = cv2.GaussianBlur(mask[..., 0],(3,3),3)"
   ]
  },
  {
   "cell_type": "code",
   "execution_count": null,
   "id": "2af4c8cc",
   "metadata": {},
   "outputs": [],
   "source": [
    "sns.heatmap(mask_filtered)"
   ]
  },
  {
   "cell_type": "code",
   "execution_count": null,
   "id": "af5d4f9f",
   "metadata": {},
   "outputs": [],
   "source": []
  },
  {
   "cell_type": "code",
   "execution_count": null,
   "id": "719235ea",
   "metadata": {},
   "outputs": [],
   "source": [
    "mask_filtered = cv2.medianBlur(mask[..., 0],11)"
   ]
  },
  {
   "cell_type": "code",
   "execution_count": null,
   "id": "ce39aa72",
   "metadata": {},
   "outputs": [],
   "source": [
    "sns.heatmap(mask_filtered)"
   ]
  },
  {
   "cell_type": "code",
   "execution_count": null,
   "id": "1e1e6208",
   "metadata": {},
   "outputs": [],
   "source": []
  },
  {
   "cell_type": "code",
   "execution_count": null,
   "id": "9b3f6560",
   "metadata": {},
   "outputs": [],
   "source": [
    "mask_filtered = cv2.bilateralFilter(mask[..., 0],15,5,2)"
   ]
  },
  {
   "cell_type": "code",
   "execution_count": null,
   "id": "32fde639",
   "metadata": {},
   "outputs": [],
   "source": [
    "sns.heatmap(mask_filtered)"
   ]
  },
  {
   "cell_type": "code",
   "execution_count": null,
   "id": "3498c9f8",
   "metadata": {},
   "outputs": [],
   "source": []
  },
  {
   "cell_type": "code",
   "execution_count": null,
   "id": "111eda31",
   "metadata": {},
   "outputs": [],
   "source": [
    "mask_filtered = cv2.bilateralFilter(mask[..., 0],15,5,5)"
   ]
  },
  {
   "cell_type": "code",
   "execution_count": null,
   "id": "46416941",
   "metadata": {},
   "outputs": [],
   "source": [
    "sns.heatmap(mask_filtered)"
   ]
  },
  {
   "cell_type": "code",
   "execution_count": null,
   "id": "d0889c20",
   "metadata": {},
   "outputs": [],
   "source": []
  },
  {
   "cell_type": "code",
   "execution_count": null,
   "id": "5d1ee9b6",
   "metadata": {},
   "outputs": [],
   "source": []
  }
 ],
 "metadata": {
  "kernelspec": {
   "display_name": "Python 3",
   "language": "python",
   "name": "python3"
  },
  "language_info": {
   "codemirror_mode": {
    "name": "ipython",
    "version": 3
   },
   "file_extension": ".py",
   "mimetype": "text/x-python",
   "name": "python",
   "nbconvert_exporter": "python",
   "pygments_lexer": "ipython3",
   "version": "3.8.8"
  }
 },
 "nbformat": 4,
 "nbformat_minor": 5
}

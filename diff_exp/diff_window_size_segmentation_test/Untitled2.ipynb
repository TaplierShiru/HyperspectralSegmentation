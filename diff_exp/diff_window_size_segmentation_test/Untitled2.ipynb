{
 "cells": [
  {
   "cell_type": "code",
   "execution_count": null,
   "id": "ab0fddea",
   "metadata": {
    "scrolled": true
   },
   "outputs": [],
   "source": [
    "import numpy as np\n",
    "import torch\n",
    "import math\n",
    "\n",
    "big_array = np.random.randn(1000, 237, 512, 512).astype(np.float32)\n",
    "#torch_arr = torch.from_numpy(big_array)\n",
    "#torch_arr.share_memory_()\n",
    "\n",
    "\n",
    "class DataLoaderTest(torch.utils.data.IterableDataset):\n",
    "    def __init__(\n",
    "            self, \n",
    "            data, shuffle_data=False\n",
    "        ):\n",
    "        super().__init__()\n",
    "        self.data = data\n",
    "        self.shuffle_data = shuffle_data\n",
    "\n",
    "    def __iter__(self):\n",
    "        if self.shuffle_data:\n",
    "            self.data = shuffle(self.data)\n",
    "        \n",
    "        for data in zip(self.data):\n",
    "            yield data\n",
    "            \n",
    "# Define a `worker_init_fn` that configures each dataset copy differently\n",
    "def worker_init_fn(worker_id):\n",
    "    worker_info = torch.utils.data.get_worker_info()\n",
    "    dataset = worker_info.dataset\n",
    "    overall_start = 0\n",
    "    overall_end = len(dataset.data)\n",
    "    # configure the dataset to only process the split workload\n",
    "    per_worker = int(math.ceil((overall_end - overall_start) / float(worker_info.num_workers)))\n",
    "    worker_id = worker_info.id\n",
    "    start = overall_start + worker_id * per_worker\n",
    "    end = min(start + per_worker, overall_end)\n",
    "    dataset.dataset = dataset.data[start:end]"
   ]
  },
  {
   "cell_type": "code",
   "execution_count": null,
   "id": "0ba5ba21",
   "metadata": {},
   "outputs": [],
   "source": [
    "dataset_train = DataLoaderTest(big_array)\n",
    "\n",
    "train_loader = torch.utils.data.DataLoader(\n",
    "    dataset_train, batch_size=2, \n",
    "    num_workers=10, pin_memory=False, prefetch_factor=2,\n",
    "#    worker_init_fn=worker_init_fn, drop_last=True\n",
    ")"
   ]
  },
  {
   "cell_type": "code",
   "execution_count": null,
   "id": "b6d465a6",
   "metadata": {},
   "outputs": [],
   "source": [
    "def run():\n",
    "    for in_x in train_loader:\n",
    "        pass"
   ]
  },
  {
   "cell_type": "code",
   "execution_count": null,
   "id": "0bef11ae",
   "metadata": {
    "scrolled": true
   },
   "outputs": [],
   "source": [
    "%load_ext memory_profiler"
   ]
  },
  {
   "cell_type": "code",
   "execution_count": null,
   "id": "9dc81d75",
   "metadata": {},
   "outputs": [],
   "source": [
    "%memit run()"
   ]
  },
  {
   "cell_type": "code",
   "execution_count": null,
   "id": "6fbe242e",
   "metadata": {},
   "outputs": [],
   "source": [
    "import os,psutil\n",
    "pid = os.getpid()\n",
    "print(pid)"
   ]
  },
  {
   "cell_type": "code",
   "execution_count": null,
   "id": "6c2dc288",
   "metadata": {},
   "outputs": [],
   "source": [
    "ps = psutil.Process(pid)\n",
    "memory_use = ps.memory_info()\n",
    "print(memory_use.rss // (8 * 1024 * 1024)) # Gb"
   ]
  },
  {
   "cell_type": "code",
   "execution_count": null,
   "id": "dffaf803",
   "metadata": {},
   "outputs": [],
   "source": [
    "# shared    - 600 \n",
    "# no shared - 401"
   ]
  },
  {
   "cell_type": "code",
   "execution_count": null,
   "id": "65310347",
   "metadata": {},
   "outputs": [],
   "source": [
    "existing_shm = shared_memory.SharedMemory(name='psm_ea2f5eac')\n",
    "c_list = []\n",
    "for i in range(1_000_000):\n",
    "    c_list.append(np.ndarray((10, 237, 512, 512), dtype=np.float32, buffer=existing_shm.buf))"
   ]
  },
  {
   "cell_type": "code",
   "execution_count": null,
   "id": "df3cbe4e",
   "metadata": {},
   "outputs": [],
   "source": []
  }
 ],
 "metadata": {
  "kernelspec": {
   "display_name": "Python 3",
   "language": "python",
   "name": "python3"
  },
  "language_info": {
   "codemirror_mode": {
    "name": "ipython",
    "version": 3
   },
   "file_extension": ".py",
   "mimetype": "text/x-python",
   "name": "python",
   "nbconvert_exporter": "python",
   "pygments_lexer": "ipython3",
   "version": "3.8.8"
  }
 },
 "nbformat": 4,
 "nbformat_minor": 5
}

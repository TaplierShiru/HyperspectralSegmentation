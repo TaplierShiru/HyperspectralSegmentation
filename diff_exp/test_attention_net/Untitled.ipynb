{
 "cells": [
  {
   "cell_type": "code",
   "execution_count": null,
   "id": "c241cc2b",
   "metadata": {},
   "outputs": [],
   "source": [
    "import torch"
   ]
  },
  {
   "cell_type": "code",
   "execution_count": null,
   "id": "d6ad228b",
   "metadata": {},
   "outputs": [],
   "source": [
    "arr = torch.randn(1, 17, 23, 23)"
   ]
  },
  {
   "cell_type": "code",
   "execution_count": null,
   "id": "3ae14ca6",
   "metadata": {},
   "outputs": [],
   "source": [
    "conv = torch.nn.ConvTranspose2d(17, 17, kernel_size=7, stride=2, padding=3, output_padding=1)"
   ]
  },
  {
   "cell_type": "code",
   "execution_count": null,
   "id": "c38179f8",
   "metadata": {},
   "outputs": [],
   "source": [
    "conv(arr).shape"
   ]
  },
  {
   "cell_type": "code",
   "execution_count": null,
   "id": "2b112b36",
   "metadata": {},
   "outputs": [],
   "source": []
  }
 ],
 "metadata": {
  "kernelspec": {
   "display_name": "Python 3",
   "language": "python",
   "name": "python3"
  },
  "language_info": {
   "codemirror_mode": {
    "name": "ipython",
    "version": 3
   },
   "file_extension": ".py",
   "mimetype": "text/x-python",
   "name": "python",
   "nbconvert_exporter": "python",
   "pygments_lexer": "ipython3",
   "version": "3.8.8"
  }
 },
 "nbformat": 4,
 "nbformat_minor": 5
}

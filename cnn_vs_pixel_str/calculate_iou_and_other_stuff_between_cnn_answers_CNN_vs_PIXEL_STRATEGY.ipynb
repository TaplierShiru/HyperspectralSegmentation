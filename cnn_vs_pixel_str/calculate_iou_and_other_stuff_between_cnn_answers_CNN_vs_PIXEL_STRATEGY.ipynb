{
 "cells": [
  {
   "cell_type": "code",
   "execution_count": 1,
   "id": "a40e5c4e",
   "metadata": {},
   "outputs": [],
   "source": [
    "import numpy as np\n",
    "import torch\n",
    "from torch import nn\n",
    "\n",
    "import matplotlib.pyplot as plt\n",
    "import seaborn as sns\n",
    "\n",
    "from sklearn.metrics import jaccard_score"
   ]
  },
  {
   "cell_type": "code",
   "execution_count": 2,
   "id": "b98baea7",
   "metadata": {},
   "outputs": [],
   "source": [
    "def calculate_iou(pred_list, target_list, num_classes=17):\n",
    "    res_list = []\n",
    "    pred_as_mask_list = []\n",
    "    \n",
    "    for preds, target in zip(pred_list, target_list):\n",
    "        # preds - (num_classes, H, W)\n",
    "        preds = preds.detach()\n",
    "        # target - (H, W)\n",
    "        target = target.detach()\n",
    "\n",
    "        preds = nn.functional.softmax(preds, dim=0)\n",
    "        preds = torch.argmax(preds, dim=0)\n",
    "        pred_as_mask_list.append(preds)\n",
    "        \n",
    "        preds_one_hoted = torch.nn.functional.one_hot(preds, num_classes).view(-1, num_classes).cpu()\n",
    "        target_one_hoted = torch.nn.functional.one_hot(target, num_classes).view(-1, num_classes).cpu()\n",
    "        res = jaccard_score(target_one_hoted, preds_one_hoted, average=None, zero_division=1)\n",
    "        res_list.append(\n",
    "            res\n",
    "        )\n",
    "    \n",
    "    res_np = np.stack(res_list)\n",
    "    #res_np = res_np.mean(axis=0)\n",
    "    return res_np, pred_as_mask_list\n",
    "\n",
    "\n",
    "def dice_loss(preds, ground_truth, eps=1e-5, dim=None, use_softmax=False, softmax_dim=1):\n",
    "    \"\"\"\n",
    "    Computes Dice loss according to the formula from:\n",
    "    V-Net: Fully Convolutional Neural Networks forVolumetric Medical Image Segmentation\n",
    "    Link to the paper: http://campar.in.tum.de/pub/milletari2016Vnet/milletari2016Vnet.pdf\n",
    "    Parameters\n",
    "    ----------\n",
    "    preds : tf.Tensor\n",
    "        Predicted probabilities.\n",
    "    ground_truth : tf.Tensor\n",
    "        Ground truth labels.\n",
    "    eps : float\n",
    "        Used to prevent division by zero in the Dice denominator.\n",
    "    axes : list\n",
    "        Defines which axes the dice value will be computed on. The computed dice values will be averaged\n",
    "        along the remaining axes. If None, Dice is computed on an entire batch.\n",
    "    Returns\n",
    "    -------\n",
    "    tf.Tensor\n",
    "        Scalar dice loss tensor.\n",
    "    \"\"\"\n",
    "    ground_truth = ground_truth.float().to(device=preds.device)\n",
    "    \n",
    "    if use_softmax:\n",
    "        preds = nn.functional.softmax(preds, dim=softmax_dim)\n",
    "    \n",
    "    numerator = preds * ground_truth\n",
    "    numerator = torch.sum(numerator, dim=dim)\n",
    "\n",
    "    p_squared = torch.square(preds)\n",
    "    p_squared = torch.sum(p_squared, dim=dim)\n",
    "    # ground_truth is not squared to avoid unnecessary computation.\n",
    "    # 0^2 = 0\n",
    "    # 1^2 = 1\n",
    "    g_squared = torch.sum(torch.square(ground_truth), dim=dim)\n",
    "    denominator = p_squared + g_squared + eps\n",
    "\n",
    "    dice = 2 * numerator / denominator\n",
    "    return 1 - dice\n",
    "\n",
    "\n",
    "def clear_metric_calculation(final_metric, target_t, pred_t, num_classes=17, using_pred=False):\n",
    "    \"\"\"\n",
    "    \n",
    "    Parameters\n",
    "    ----------\n",
    "    final_metric: torch.Tensor\n",
    "        Tensor with shape (N, C)\n",
    "    target_t: torch.Tensor or list\n",
    "        Tensor with shape (N, 1, H, W)\n",
    "    pred_t: torch.Tensor or list\n",
    "        Tensor with shape (N, 1, H, W)\n",
    "    \n",
    "    \"\"\"\n",
    "    # For each image\n",
    "    final_metric_dict = dict([\n",
    "        (str(i), []) for i in range(num_classes)\n",
    "    ])\n",
    "    for metric_s, target_t_s, pred_t_s in zip(final_metric, target_t, pred_t):\n",
    "        unique_indx_target = torch.unique(target_t_s.long())\n",
    "        unique_indx_pred = None\n",
    "        if using_pred:\n",
    "            if isinstance(pred_t_s, np.ndarray):\n",
    "                pred_t_s = torch.from_numpy(pred_t_s)\n",
    "            unique_indx_pred = torch.unique(pred_t_s.long())\n",
    "        for i in range(num_classes):\n",
    "            if i in unique_indx_target or \\\n",
    "                    (unique_indx_pred is not None and i in unique_indx_pred):\n",
    "                final_metric_dict[str(i)].append(metric_s[i])\n",
    "    \n",
    "    mean_per_class_metric = [\n",
    "        sum(final_metric_dict[str(i)]) / len(final_metric_dict[str(i)])\n",
    "        if len(final_metric_dict[str(i)]) != 0\n",
    "        else 0.0\n",
    "        for i in range(num_classes)\n",
    "    ] \n",
    "    mean_metric = sum(mean_per_class_metric) / len(mean_per_class_metric)\n",
    "    return mean_per_class_metric, mean_metric\n"
   ]
  },
  {
   "cell_type": "code",
   "execution_count": 3,
   "id": "8307b360",
   "metadata": {},
   "outputs": [],
   "source": [
    "def preds2onehot(preds):\n",
    "    preds = torch.from_numpy(preds)\n",
    "    preds = nn.functional.softmax(preds, dim=1)\n",
    "    preds = torch.argmax(preds, dim=1)\n",
    "    \n",
    "    one_hotted_tensor = torch.nn.functional.one_hot(\n",
    "        preds, 17 # Num classes\n",
    "    )\n",
    "    # (N, H, W, C) --> (N, C, H, W)\n",
    "    one_hotted_tensor = one_hotted_tensor.permute(0, -1, 1, 2)\n",
    "    return preds.numpy(), one_hotted_tensor.numpy()"
   ]
  },
  {
   "cell_type": "code",
   "execution_count": 4,
   "id": "698cb340",
   "metadata": {},
   "outputs": [],
   "source": [
    "# Load - cnn\n",
    "loaded_cnn_one_hot_target = np.load('cnn/target_one_hotted_tensor.npy')\n",
    "loaded_cnn_target = np.argmax(loaded_cnn_one_hot_target, axis=1)\n",
    "\n",
    "loaded_cnn_logits_preds = np.load('cnn/pred_tensor.npy')\n",
    "loaded_cnn_preds, loaded_cnn_one_hot_preds = preds2onehot(loaded_cnn_logits_preds)\n",
    "\n",
    "# Load - pixel-strategy\n",
    "loaded_pixel_one_hot_target = np.load('pixel_strategy/target_one_hotted_tensor.npy') \n",
    "loaded_pixels_target = np.argmax(loaded_pixel_one_hot_target, axis=1)\n",
    "\n",
    "loaded_pixel_logits_preds = np.load('pixel_strategy/pred_tensor.npy')\n",
    "loaded_pixel_preds, loaded_pixel_one_hot_preds = preds2onehot(loaded_pixel_logits_preds)"
   ]
  },
  {
   "cell_type": "code",
   "execution_count": 44,
   "id": "8b4d2483",
   "metadata": {},
   "outputs": [],
   "source": [
    "def create_big_image(tensor):\n",
    "    shape = tensor.shape\n",
    "    tensor = np.concatenate([\n",
    "        t_s.reshape(1, 17, 512, 512)\n",
    "        for t_s in tensor\n",
    "    ], axis=-1)\n",
    "    return tensor"
   ]
  },
  {
   "cell_type": "code",
   "execution_count": 45,
   "id": "58f12efe",
   "metadata": {},
   "outputs": [],
   "source": [
    "# Load - cnn\n",
    "loaded_cnn_one_hot_target = create_big_image(loaded_cnn_one_hot_target)\n",
    "loaded_cnn_target = np.argmax(loaded_cnn_one_hot_target, axis=1)\n",
    "\n",
    "loaded_cnn_logits_preds = create_big_image(np.load('cnn/pred_tensor.npy'))\n",
    "loaded_cnn_preds, loaded_cnn_one_hot_preds = preds2onehot(loaded_cnn_logits_preds)\n",
    "\n",
    "# Load - pixel-strategy\n",
    "loaded_pixel_one_hot_target = create_big_image(np.load('pixel_strategy/target_one_hotted_tensor.npy') )\n",
    "loaded_pixels_target = np.argmax(loaded_pixel_one_hot_target, axis=1)\n",
    "\n",
    "loaded_pixel_logits_preds = create_big_image(np.load('pixel_strategy/pred_tensor.npy'))\n",
    "loaded_pixel_preds, loaded_pixel_one_hot_preds = preds2onehot(loaded_pixel_logits_preds)"
   ]
  },
  {
   "cell_type": "code",
   "execution_count": 46,
   "id": "435b186e",
   "metadata": {},
   "outputs": [
    {
     "data": {
      "text/plain": [
       "(1, 17, 512, 19968)"
      ]
     },
     "execution_count": 46,
     "metadata": {},
     "output_type": "execute_result"
    }
   ],
   "source": [
    "loaded_cnn_one_hot_target.shape"
   ]
  },
  {
   "cell_type": "code",
   "execution_count": null,
   "id": "bab06a4d",
   "metadata": {},
   "outputs": [],
   "source": []
  },
  {
   "cell_type": "code",
   "execution_count": 64,
   "id": "77f7adde",
   "metadata": {},
   "outputs": [],
   "source": [
    "dice_loss_val = dice_loss(\n",
    "    torch.from_numpy(loaded_pixel_logits_preds), \n",
    "    torch.from_numpy(loaded_pixel_one_hot_target), \n",
    "    dim=[0, 2, 3], use_softmax=True, softmax_dim=1\n",
    ")\n",
    "metric, pred_as_mask_list = calculate_iou(\n",
    "    torch.from_numpy(loaded_pixel_logits_preds), \n",
    "    torch.from_numpy(loaded_pixels_target)\n",
    ")\n",
    "\n",
    "mean_per_class_metric, mean_metric = clear_metric_calculation(\n",
    "    metric, torch.from_numpy(loaded_cnn_target), pred_as_mask_list,\n",
    "    using_pred=False\n",
    ")"
   ]
  },
  {
   "cell_type": "code",
   "execution_count": 65,
   "id": "72dbd7d0",
   "metadata": {},
   "outputs": [
    {
     "data": {
      "text/plain": [
       "tensor([0.1023, 0.1017, 0.0281, 0.1491, 0.5212, 0.7105, 0.3116, 0.2430, 0.1060,\n",
       "        0.2561, 0.1982, 0.0998, 0.0628, 0.0614, 0.1127, 0.9993, 0.3112])"
      ]
     },
     "execution_count": 65,
     "metadata": {},
     "output_type": "execute_result"
    }
   ],
   "source": [
    "dice_loss_val"
   ]
  },
  {
   "cell_type": "code",
   "execution_count": 66,
   "id": "d247394c",
   "metadata": {},
   "outputs": [
    {
     "data": {
      "text/plain": [
       "([0.75901967820683,\n",
       "  0.775409225173481,\n",
       "  0.9299254258272317,\n",
       "  0.6752405391924133,\n",
       "  0.2987461060545413,\n",
       "  0.15136932037171855,\n",
       "  0.4732840943203853,\n",
       "  0.5629970789674832,\n",
       "  0.7874051914447453,\n",
       "  0.5787777099571605,\n",
       "  0.621362248937535,\n",
       "  0.7645417497827763,\n",
       "  0.8520044309854354,\n",
       "  0.8471095345317015,\n",
       "  0.7566236939516056,\n",
       "  0.0,\n",
       "  0.4747069194840546],\n",
       " 0.6063837027758293)"
      ]
     },
     "execution_count": 66,
     "metadata": {},
     "output_type": "execute_result"
    }
   ],
   "source": [
    "mean_per_class_metric, mean_metric"
   ]
  },
  {
   "cell_type": "code",
   "execution_count": null,
   "id": "f8c65537",
   "metadata": {},
   "outputs": [],
   "source": []
  },
  {
   "cell_type": "code",
   "execution_count": 68,
   "id": "0698ca01",
   "metadata": {},
   "outputs": [],
   "source": [
    "dice_loss_val = dice_loss(\n",
    "    torch.from_numpy(loaded_cnn_logits_preds), \n",
    "    torch.from_numpy(loaded_cnn_one_hot_target), \n",
    "    dim=[0, 2, 3], use_softmax=True, softmax_dim=1\n",
    ")\n",
    "metric, pred_as_mask_list = calculate_iou(\n",
    "    torch.from_numpy(loaded_cnn_logits_preds), \n",
    "    torch.from_numpy(loaded_cnn_target)\n",
    ")\n",
    "\n",
    "mean_per_class_metric, mean_metric = clear_metric_calculation(\n",
    "    metric, torch.from_numpy(loaded_cnn_target), pred_as_mask_list,\n",
    "    using_pred=False\n",
    ")"
   ]
  },
  {
   "cell_type": "code",
   "execution_count": 69,
   "id": "d431dc28",
   "metadata": {},
   "outputs": [
    {
     "data": {
      "text/plain": [
       "tensor([0.1029, 0.1101, 0.0284, 0.1478, 0.5420, 0.6724, 0.3178, 0.3731, 0.1624,\n",
       "        0.2190, 0.2159, 0.0883, 0.0639, 0.0530, 0.1263, 0.9998, 0.3378])"
      ]
     },
     "execution_count": 69,
     "metadata": {},
     "output_type": "execute_result"
    }
   ],
   "source": [
    "dice_loss_val"
   ]
  },
  {
   "cell_type": "code",
   "execution_count": 70,
   "id": "39dea932",
   "metadata": {},
   "outputs": [
    {
     "data": {
      "text/plain": [
       "([0.758142558919901,\n",
       "  0.7600446535977904,\n",
       "  0.9296820146927574,\n",
       "  0.6803178184315072,\n",
       "  0.2754552724214969,\n",
       "  0.17648912469953684,\n",
       "  0.47486850689064664,\n",
       "  0.4231668677531722,\n",
       "  0.6890377437426816,\n",
       "  0.614471460502644,\n",
       "  0.5956617451062696,\n",
       "  0.7900304433472333,\n",
       "  0.8448860623668532,\n",
       "  0.8678943053541023,\n",
       "  0.7430654205607476,\n",
       "  0.0,\n",
       "  0.45331130021530536],\n",
       " 0.592736782270744)"
      ]
     },
     "execution_count": 70,
     "metadata": {},
     "output_type": "execute_result"
    }
   ],
   "source": [
    "mean_per_class_metric, mean_metric"
   ]
  },
  {
   "cell_type": "code",
   "execution_count": null,
   "id": "105e1bf9",
   "metadata": {},
   "outputs": [],
   "source": []
  },
  {
   "cell_type": "code",
   "execution_count": null,
   "id": "a1ea829a",
   "metadata": {},
   "outputs": [],
   "source": []
  },
  {
   "cell_type": "code",
   "execution_count": 75,
   "id": "d63eac88",
   "metadata": {
    "scrolled": true
   },
   "outputs": [],
   "source": [
    "dice_loss_val = dice_loss(\n",
    "    torch.from_numpy(loaded_cnn_logits_preds), \n",
    "    torch.from_numpy(loaded_pixel_one_hot_preds), \n",
    "    dim=[0, 2, 3], use_softmax=True, softmax_dim=1\n",
    ")\n",
    "metric, pred_as_mask_list = calculate_iou(\n",
    "    torch.from_numpy(loaded_cnn_logits_preds), \n",
    "    torch.from_numpy(loaded_pixel_preds)\n",
    ")\n",
    "\n",
    "mean_per_class_metric, mean_metric = clear_metric_calculation(\n",
    "    metric, torch.from_numpy(loaded_pixel_preds), pred_as_mask_list\n",
    ")"
   ]
  },
  {
   "cell_type": "code",
   "execution_count": 76,
   "id": "b1698a79",
   "metadata": {},
   "outputs": [
    {
     "data": {
      "text/plain": [
       "(tensor([0.0777, 0.0894, 0.0213, 0.1496, 0.3487, 0.3415, 0.1821, 0.2562, 0.1073,\n",
       "         0.1301, 0.1379, 0.1078, 0.0610, 0.0578, 0.1073, 0.7397, 0.1912]),\n",
       " tensor(0.1828))"
      ]
     },
     "execution_count": 76,
     "metadata": {},
     "output_type": "execute_result"
    }
   ],
   "source": [
    "dice_loss_val, dice_loss_val.mean()"
   ]
  },
  {
   "cell_type": "code",
   "execution_count": 77,
   "id": "0976097e",
   "metadata": {},
   "outputs": [
    {
     "data": {
      "text/plain": [
       "([0.8163852351531572,\n",
       "  0.7993526305635544,\n",
       "  0.9459798625163024,\n",
       "  0.6949844881075491,\n",
       "  0.42296329421079254,\n",
       "  0.4266729966727573,\n",
       "  0.6458945043845099,\n",
       "  0.5493131782753006,\n",
       "  0.7676741108931193,\n",
       "  0.7214938934013162,\n",
       "  0.721837776343602,\n",
       "  0.7648426116520572,\n",
       "  0.8542086029913053,\n",
       "  0.8654308056652743,\n",
       "  0.7919697862885202,\n",
       "  0.12030029109851387,\n",
       "  0.6220795535607194],\n",
       " 0.6783166836340206)"
      ]
     },
     "execution_count": 77,
     "metadata": {},
     "output_type": "execute_result"
    }
   ],
   "source": [
    "mean_per_class_metric, mean_metric"
   ]
  },
  {
   "cell_type": "code",
   "execution_count": 78,
   "id": "d25326ab",
   "metadata": {},
   "outputs": [
    {
     "data": {
      "text/plain": [
       "(array([0.81638524, 0.79935263, 0.94597986, 0.69498449, 0.42296329,\n",
       "        0.426673  , 0.6458945 , 0.54931318, 0.76767411, 0.72149389,\n",
       "        0.72183778, 0.76484261, 0.8542086 , 0.86543081, 0.79196979,\n",
       "        0.12030029, 0.62207955]),\n",
       " 0.6783166836340206)"
      ]
     },
     "execution_count": 78,
     "metadata": {},
     "output_type": "execute_result"
    }
   ],
   "source": [
    "metric.mean(axis=0), metric.mean(axis=0).mean()"
   ]
  },
  {
   "cell_type": "code",
   "execution_count": 79,
   "id": "1f700481",
   "metadata": {},
   "outputs": [
    {
     "data": {
      "text/plain": [
       "array([0.07770324, 0.08939719, 0.0213424 , 0.14964491, 0.34869599,\n",
       "       0.34153891, 0.18213189, 0.25621551, 0.10731047, 0.13006204,\n",
       "       0.13786805, 0.10783106, 0.06100631, 0.05775619, 0.10732871,\n",
       "       0.73970938, 0.19122571, 0.18275106])"
      ]
     },
     "execution_count": 79,
     "metadata": {},
     "output_type": "execute_result"
    }
   ],
   "source": [
    "np.asarray(dice_loss_val.tolist() + [dice_loss_val.mean()])"
   ]
  },
  {
   "cell_type": "code",
   "execution_count": 83,
   "id": "4772a4c2",
   "metadata": {
    "scrolled": false
   },
   "outputs": [
    {
     "data": {
      "text/plain": [
       "<matplotlib.legend.Legend at 0x7f1f83ce0e50>"
      ]
     },
     "execution_count": 83,
     "metadata": {},
     "output_type": "execute_result"
    },
    {
     "data": {
      "image/png": "[encoded data removed]",
      "text/plain": [
       "<Figure size 864x864 with 1 Axes>"
      ]
     },
     "metadata": {
      "needs_background": "light"
     },
     "output_type": "display_data"
    }
   ],
   "source": [
    "fig, ax = plt.subplots(1, 1, figsize=(12,12))\n",
    "\n",
    "sns.barplot(\n",
    "    x=list(map(str, range(17))) + [\"mean\"], y=np.asarray(dice_loss_val.tolist() + [dice_loss_val.mean()]) \n",
    ")\n",
    "def show_values_on_bars(axs):\n",
    "    def _show_on_single_plot(ax):        \n",
    "        for p in ax.patches:\n",
    "            _x = p.get_x() + p.get_width() / 2\n",
    "            _y = p.get_y() + p.get_height()\n",
    "            value = '{:.2f}'.format(p.get_height())\n",
    "            ax.text(_x, _y, value, ha=\"center\") \n",
    "\n",
    "    if isinstance(axs, np.ndarray):\n",
    "        for idx, ax in np.ndenumerate(axs):\n",
    "            _show_on_single_plot(ax)\n",
    "    else:\n",
    "        _show_on_single_plot(axs)\n",
    "\n",
    "show_values_on_bars(ax)\n",
    "plt.legend(['dice'])"
   ]
  },
  {
   "cell_type": "code",
   "execution_count": 84,
   "id": "034b2192",
   "metadata": {},
   "outputs": [
    {
     "data": {
      "text/plain": [
       "<matplotlib.legend.Legend at 0x7f1f83bee910>"
      ]
     },
     "execution_count": 84,
     "metadata": {},
     "output_type": "execute_result"
    },
    {
     "data": {
      "image/png": "[encoded data removed]",
      "text/plain": [
       "<Figure size 864x864 with 1 Axes>"
      ]
     },
     "metadata": {
      "needs_background": "light"
     },
     "output_type": "display_data"
    }
   ],
   "source": [
    "fig, ax = plt.subplots(1, 1, figsize=(12,12))\n",
    "\n",
    "sns.barplot(\n",
    "    x=list(map(str, range(17))) + [\"mean\"], y=np.asarray(metric.mean(axis=0).tolist() + [metric.mean()]) \n",
    ")\n",
    "def show_values_on_bars(axs):\n",
    "    def _show_on_single_plot(ax):        \n",
    "        for p in ax.patches:\n",
    "            _x = p.get_x() + p.get_width() / 2\n",
    "            _y = p.get_y() + p.get_height()\n",
    "            value = '{:.2f}'.format(p.get_height())\n",
    "            ax.text(_x, _y, value, ha=\"center\") \n",
    "\n",
    "    if isinstance(axs, np.ndarray):\n",
    "        for idx, ax in np.ndenumerate(axs):\n",
    "            _show_on_single_plot(ax)\n",
    "    else:\n",
    "        _show_on_single_plot(axs)\n",
    "\n",
    "show_values_on_bars(ax)\n",
    "plt.legend(['iou'])"
   ]
  },
  {
   "cell_type": "code",
   "execution_count": 58,
   "id": "b8a54d60",
   "metadata": {},
   "outputs": [
    {
     "data": {
      "text/plain": [
       "<matplotlib.legend.Legend at 0x7f1f7d11d880>"
      ]
     },
     "execution_count": 58,
     "metadata": {},
     "output_type": "execute_result"
    },
    {
     "data": {
      "image/png": "[encoded data removed]",
      "text/plain": [
       "<Figure size 864x864 with 1 Axes>"
      ]
     },
     "metadata": {
      "needs_background": "light"
     },
     "output_type": "display_data"
    }
   ],
   "source": [
    "fig, ax = plt.subplots(1, 1, figsize=(12,12))\n",
    "\n",
    "sns.barplot(\n",
    "    x=list(map(str, range(17))) + [\"mean\"], y=np.asarray(mean_per_class_metric + [mean_metric]) \n",
    ")\n",
    "def show_values_on_bars(axs):\n",
    "    def _show_on_single_plot(ax):        \n",
    "        for p in ax.patches:\n",
    "            _x = p.get_x() + p.get_width() / 2\n",
    "            _y = p.get_y() + p.get_height()\n",
    "            value = '{:.2f}'.format(p.get_height())\n",
    "            ax.text(_x, _y, value, ha=\"center\") \n",
    "\n",
    "    if isinstance(axs, np.ndarray):\n",
    "        for idx, ax in np.ndenumerate(axs):\n",
    "            _show_on_single_plot(ax)\n",
    "    else:\n",
    "        _show_on_single_plot(axs)\n",
    "\n",
    "show_values_on_bars(ax)\n",
    "plt.legend(['iou clear'])"
   ]
  },
  {
   "cell_type": "code",
   "execution_count": null,
   "id": "2b9822c4",
   "metadata": {},
   "outputs": [],
   "source": []
  },
  {
   "cell_type": "code",
   "execution_count": null,
   "id": "9ffb4bca",
   "metadata": {},
   "outputs": [],
   "source": []
  },
  {
   "cell_type": "code",
   "execution_count": 82,
   "id": "ec634251",
   "metadata": {},
   "outputs": [],
   "source": [
    "dice_loss_val = dice_loss(\n",
    "    torch.from_numpy(loaded_pixel_logits_preds), \n",
    "    torch.from_numpy(loaded_cnn_one_hot_preds), \n",
    "    dim=[0, 2, 3], use_softmax=True, softmax_dim=1\n",
    ")\n",
    "metric, pred_as_mask_list = calculate_iou(\n",
    "    torch.from_numpy(loaded_pixel_logits_preds), \n",
    "    torch.from_numpy(loaded_cnn_preds)\n",
    ")\n",
    "\n",
    "mean_per_class_metric, mean_metric = clear_metric_calculation(\n",
    "    metric, torch.from_numpy(loaded_cnn_preds), pred_as_mask_list\n",
    ")"
   ]
  },
  {
   "cell_type": "code",
   "execution_count": 73,
   "id": "3961675e",
   "metadata": {},
   "outputs": [
    {
     "data": {
      "text/plain": [
       "(tensor([0.0765, 0.0923, 0.0226, 0.1374, 0.3571, 0.3657, 0.1862, 0.2430, 0.1150,\n",
       "         0.1402, 0.1371, 0.1047, 0.0657, 0.0534, 0.0970, 0.7433, 0.1930]),\n",
       " tensor(0.1841))"
      ]
     },
     "execution_count": 73,
     "metadata": {},
     "output_type": "execute_result"
    }
   ],
   "source": [
    "dice_loss_val, dice_loss_val.mean()"
   ]
  },
  {
   "cell_type": "code",
   "execution_count": 74,
   "id": "3bb19975",
   "metadata": {},
   "outputs": [
    {
     "data": {
      "text/plain": [
       "([0.8163852351531572,\n",
       "  0.7993526305635544,\n",
       "  0.9459798625163024,\n",
       "  0.6949844881075491,\n",
       "  0.42296329421079254,\n",
       "  0.4266729966727573,\n",
       "  0.6458945043845099,\n",
       "  0.5493131782753006,\n",
       "  0.7676741108931193,\n",
       "  0.7214938934013162,\n",
       "  0.721837776343602,\n",
       "  0.7648426116520572,\n",
       "  0.8542086029913053,\n",
       "  0.8654308056652743,\n",
       "  0.7919697862885202,\n",
       "  0.12030029109851387,\n",
       "  0.6220795535607194],\n",
       " 0.6783166836340206)"
      ]
     },
     "execution_count": 74,
     "metadata": {},
     "output_type": "execute_result"
    }
   ],
   "source": [
    "mean_per_class_metric, mean_metric"
   ]
  },
  {
   "cell_type": "code",
   "execution_count": 51,
   "id": "5a2cb121",
   "metadata": {},
   "outputs": [
    {
     "data": {
      "text/plain": [
       "(array([0.674472  , 0.46706221, 0.62363081, 0.7632359 , 0.57222331,\n",
       "        0.55100868, 0.74690617, 0.44679824, 0.64399825, 0.73971335,\n",
       "        0.23522853, 0.82067467, 0.59289507, 0.74157825, 0.77343722,\n",
       "        0.82866668, 0.72597082]),\n",
       " 0.6439705972197436)"
      ]
     },
     "execution_count": 51,
     "metadata": {},
     "output_type": "execute_result"
    }
   ],
   "source": [
    "metric.mean(axis=0), metric.mean(axis=0).mean()"
   ]
  },
  {
   "cell_type": "code",
   "execution_count": null,
   "id": "7e8b627f",
   "metadata": {},
   "outputs": [],
   "source": []
  },
  {
   "cell_type": "code",
   "execution_count": null,
   "id": "9255a1e4",
   "metadata": {},
   "outputs": [],
   "source": []
  },
  {
   "cell_type": "code",
   "execution_count": null,
   "id": "56f267aa",
   "metadata": {},
   "outputs": [],
   "source": []
  },
  {
   "cell_type": "code",
   "execution_count": null,
   "id": "063c5849",
   "metadata": {},
   "outputs": [],
   "source": []
  },
  {
   "cell_type": "code",
   "execution_count": null,
   "id": "18d1b79e",
   "metadata": {},
   "outputs": [],
   "source": []
  },
  {
   "cell_type": "code",
   "execution_count": null,
   "id": "b3fdb4b8",
   "metadata": {},
   "outputs": [],
   "source": []
  },
  {
   "cell_type": "code",
   "execution_count": null,
   "id": "cc472905",
   "metadata": {},
   "outputs": [],
   "source": []
  },
  {
   "cell_type": "code",
   "execution_count": null,
   "id": "cfe77646",
   "metadata": {},
   "outputs": [],
   "source": []
  }
 ],
 "metadata": {
  "kernelspec": {
   "display_name": "Python 3",
   "language": "python",
   "name": "python3"
  },
  "language_info": {
   "codemirror_mode": {
    "name": "ipython",
    "version": 3
   },
   "file_extension": ".py",
   "mimetype": "text/x-python",
   "name": "python",
   "nbconvert_exporter": "python",
   "pygments_lexer": "ipython3",
   "version": "3.8.8"
  }
 },
 "nbformat": 4,
 "nbformat_minor": 5
}

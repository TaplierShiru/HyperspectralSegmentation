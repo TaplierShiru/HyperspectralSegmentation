{
 "cells": [
  {
   "cell_type": "code",
   "execution_count": null,
   "id": "5d26fc6c",
   "metadata": {},
   "outputs": [],
   "source": [
    "import numpy as np\n",
    "import torch\n",
    "from torch import nn\n",
    "from tqdm import tqdm\n",
    "\n",
    "from model_tools import *"
   ]
  },
  {
   "cell_type": "code",
   "execution_count": null,
   "id": "d15a7b46",
   "metadata": {},
   "outputs": [],
   "source": [
    "cut_window = (11, 11)\n",
    "test_indices = np.load(f'{PREFIX_INFO_PATH}/kfold0_indx_test.npy')\n",
    "\n",
    "# Load and preprocess data\n",
    "# Test\n",
    "dataset_creator_test = DatasetCreator(\n",
    "    PATH_DATA,\n",
    "    indices=test_indices, cut_window=None,\n",
    "    map_mask_to_class=False\n",
    ")\n",
    "dataset_test = HsiDataloaderCutter(\n",
    "    images=dataset_creator_test.images, masks=dataset_creator_test.masks,\n",
    "    augmentation=test_augmentation,\n",
    "    preprocessing=preprocessing,\n",
    "    shuffle_data=False, cut_window=None,\n",
    "    map_mask_to_class=False,\n",
    "    batch_size=1\n",
    ")\n",
    "test_loader = torch.utils.data.DataLoader(\n",
    "    dataset_test, batch_size=None\n",
    ")\n",
    "net = MySuperNetLittleInput(in_f=17, out_f=17, cut_window=cut_window)\n",
    "net.eval()\n",
    "with torch.no_grad():\n",
    "    _ = net(torch.randn(1, 17, cut_window[0], cut_window[1]))\n",
    "net.train()"
   ]
  },
  {
   "cell_type": "code",
   "execution_count": null,
   "id": "b0ca8672",
   "metadata": {},
   "outputs": [],
   "source": [
    "model = NnModel.load_from_checkpoint(\n",
    "    \"model-epoch=03-mean_iou=0.63.ckpt\",\n",
    "    loss=nn.CrossEntropyLoss(), model=net\n",
    ")\n",
    "net.eval()\n"
   ]
  },
  {
   "cell_type": "code",
   "execution_count": null,
   "id": "d2275cba",
   "metadata": {},
   "outputs": [],
   "source": [
    "outputs = []\n",
    "for data in test_loader:\n",
    "    outputs.append(data)"
   ]
  },
  {
   "cell_type": "code",
   "execution_count": null,
   "id": "5b5240e0",
   "metadata": {},
   "outputs": [],
   "source": [
    "with torch.no_grad():\n",
    "    pred_tensor, target_tensor = collect_prediction_and_target(outputs, net, cut_window=cut_window)\n",
    "target_one_hotted_tensor = torch.nn.functional.one_hot(\n",
    "    target_tensor, 17 # Num classes\n",
    ")\n",
    "# (N, H, W, C) --> (N, C, H, W)\n",
    "target_one_hotted_tensor = target_one_hotted_tensor.permute(0, -1, 1, 2)\n",
    "\n",
    "np.save(f\"target_one_hotted_tensor\", target_one_hotted_tensor.detach().numpy())\n",
    "\n",
    "np.save(f\"pred_tensor\", pred_tensor.detach().numpy())"
   ]
  },
  {
   "cell_type": "code",
   "execution_count": null,
   "id": "7dba6d62",
   "metadata": {},
   "outputs": [],
   "source": []
  },
  {
   "cell_type": "code",
   "execution_count": null,
   "id": "f37ef555",
   "metadata": {},
   "outputs": [],
   "source": []
  },
  {
   "cell_type": "code",
   "execution_count": null,
   "id": "9fefe5a6",
   "metadata": {},
   "outputs": [],
   "source": []
  }
 ],
 "metadata": {
  "kernelspec": {
   "display_name": "Python 3.10.1 64-bit",
   "language": "python",
   "name": "python3"
  },
  "language_info": {
   "codemirror_mode": {
    "name": "ipython",
    "version": 3
   },
   "file_extension": ".py",
   "mimetype": "text/x-python",
   "name": "python",
   "nbconvert_exporter": "python",
   "pygments_lexer": "ipython3",
   "version": "3.10.1"
  },
  "vscode": {
   "interpreter": {
    "hash": "369f2c481f4da34e4445cda3fffd2e751bd1c4d706f27375911949ba6bb62e1c"
   }
  }
 },
 "nbformat": 4,
 "nbformat_minor": 5
}

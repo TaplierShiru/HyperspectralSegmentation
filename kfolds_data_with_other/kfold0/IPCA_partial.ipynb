{
 "cells": [
  {
   "cell_type": "code",
   "execution_count": 1,
   "id": "c73cebf7",
   "metadata": {},
   "outputs": [],
   "source": [
    "import os\n",
    "os.environ['CUDA_VISIBLE_DEVICES'] = \"2\"\n",
    "\n",
    "import sys\n",
    "sys.path.append('/home/rustam/hyperspecter_segmentation/makitorch')"
   ]
  },
  {
   "cell_type": "code",
   "execution_count": 2,
   "id": "8d801643",
   "metadata": {},
   "outputs": [
    {
     "name": "stderr",
     "output_type": "stream",
     "text": [
      "/opt/conda/lib/python3.8/site-packages/tqdm/auto.py:22: TqdmWarning: IProgress not found. Please update jupyter and ipywidgets. See https://ipywidgets.readthedocs.io/en/stable/user_install.html\n",
      "  from .autonotebook import tqdm as notebook_tqdm\n"
     ]
    }
   ],
   "source": [
    "import numpy as np\n",
    "import torch\n",
    "import matplotlib.pyplot as plt\n",
    "import seaborn as sns\n",
    "\n",
    "from sklearn.decomposition import IncrementalPCA\n",
    "from hsi_dataset_api import HsiDataset\n",
    "\n",
    "from makitorch.dataloaders.HsiDataloader import HsiDataloader\n",
    "\n",
    "from tqdm import tqdm"
   ]
  },
  {
   "cell_type": "code",
   "execution_count": 3,
   "id": "b5c82596",
   "metadata": {},
   "outputs": [],
   "source": [
    "train_indices = np.load('data/kfold0_indx_train.npy')"
   ]
  },
  {
   "cell_type": "code",
   "execution_count": 4,
   "id": "e735121a",
   "metadata": {},
   "outputs": [],
   "source": [
    "BATCH_SIZE = 32\n",
    "dataset_hsi_loader = HsiDataloader(\n",
    "    '/raid/rustam/hyperspectral_dataset/new_cropped_hsi_data', \n",
    "    indices=train_indices,\n",
    "    shuffle_data=True,\n",
    ")\n",
    "\n",
    "data_loader = torch.utils.data.DataLoader(dataset_hsi_loader, batch_size=BATCH_SIZE)"
   ]
  },
  {
   "cell_type": "code",
   "execution_count": 5,
   "id": "aebab725",
   "metadata": {
    "scrolled": true
   },
   "outputs": [
    {
     "name": "stderr",
     "output_type": "stream",
     "text": [
      "8it [20:06, 150.87s/it]\n"
     ]
    }
   ],
   "source": [
    "ipca = IncrementalPCA(n_components=17, whiten=True, batch_size=BATCH_SIZE)\n",
    "\n",
    "iterator = tqdm(data_loader)\n",
    "\n",
    "for img_batch, _ in iterator:\n",
    "    # (N, C, H, W) --> (N, H, W, C)\n",
    "    img_batch = img_batch.permute(0, 2, 3, 1)\n",
    "    # (N, H, W, C) --> (N * H * W, C)\n",
    "    img_batch = img_batch.reshape(-1, img_batch.shape[-1]).numpy()\n",
    "    ipca.partial_fit(img_batch)\n",
    "iterator.close()"
   ]
  },
  {
   "cell_type": "code",
   "execution_count": 6,
   "id": "19d94fcb",
   "metadata": {},
   "outputs": [
    {
     "data": {
      "text/plain": [
       "array([[ 0.00602891,  0.00633054,  0.00664099, ...,  0.01327099,\n",
       "         0.01358193,  0.01391081],\n",
       "       [ 0.01630769,  0.01790755,  0.01906753, ...,  0.0019729 ,\n",
       "         0.00186968,  0.00174187],\n",
       "       [-0.02425773, -0.02540149, -0.02608737, ..., -0.03692343,\n",
       "        -0.03625269, -0.03589918],\n",
       "       ...,\n",
       "       [-0.05324423, -0.05299331, -0.04989048, ..., -0.07514371,\n",
       "        -0.07335743, -0.06687218],\n",
       "       [-0.03823472, -0.03297001, -0.03064029, ..., -0.0589724 ,\n",
       "        -0.05986649, -0.06677085],\n",
       "       [ 0.07033014,  0.07507158,  0.07855331, ..., -0.05758581,\n",
       "        -0.06045565, -0.06368101]])"
      ]
     },
     "execution_count": 6,
     "metadata": {},
     "output_type": "execute_result"
    }
   ],
   "source": [
    "ipca.components_"
   ]
  },
  {
   "cell_type": "code",
   "execution_count": 7,
   "id": "2e6f66aa",
   "metadata": {},
   "outputs": [
    {
     "data": {
      "text/plain": [
       "(17, 237)"
      ]
     },
     "execution_count": 7,
     "metadata": {},
     "output_type": "execute_result"
    }
   ],
   "source": [
    "ipca.components_.shape"
   ]
  },
  {
   "cell_type": "code",
   "execution_count": 8,
   "id": "f79bdf07",
   "metadata": {},
   "outputs": [
    {
     "data": {
      "text/plain": [
       "array([1.67993122e+05, 3.32940284e+04, 2.89402278e+03, 1.14323898e+03,\n",
       "       9.04428596e+02, 5.68760994e+02, 2.92021398e+02, 2.07138123e+02,\n",
       "       1.43676712e+02, 1.37669745e+02, 7.45658290e+01, 5.45695061e+01,\n",
       "       4.15558740e+01, 3.04114182e+01, 1.97128098e+01, 1.83965865e+01,\n",
       "       1.66125194e+01])"
      ]
     },
     "execution_count": 8,
     "metadata": {},
     "output_type": "execute_result"
    }
   ],
   "source": [
    "ipca.explained_variance_"
   ]
  },
  {
   "cell_type": "code",
   "execution_count": 9,
   "id": "4d7397fd",
   "metadata": {
    "scrolled": true
   },
   "outputs": [
    {
     "data": {
      "text/plain": [
       "array([  4.60854069,   4.88661797,   5.13074796,   5.45433634,\n",
       "         5.78427622,   6.07800176,   6.41802079,   6.76648847,\n",
       "         6.97347037,   7.18946428,   7.48936012,   7.79727577,\n",
       "         8.0634546 ,   8.27795647,   8.45424223,   8.59141925,\n",
       "         8.77870406,   9.08975904,   9.47336009,   9.87858482,\n",
       "        10.26788361,  10.46201326,  10.41240631,  10.3077532 ,\n",
       "        10.61675855,  11.19848953,  11.77862988,  12.28374666,\n",
       "        12.6776985 ,  12.88587593,  13.02901677,  13.32241566,\n",
       "        13.79876329,  14.37296911,  14.97966731,  15.51356934,\n",
       "        15.9080799 ,  16.42453216,  17.31391883,  18.43364877,\n",
       "        19.50586002,  20.61024884,  21.90479057,  23.23988807,\n",
       "        24.35559524,  25.2766468 ,  25.91699288,  26.25082912,\n",
       "        26.62076117,  26.98058907,  27.36047726,  27.96471354,\n",
       "        28.77973045,  29.5191907 ,  29.9863191 ,  30.17747954,\n",
       "        30.18804581,  29.91982104,  29.39979667,  28.8361286 ,\n",
       "        28.41944403,  28.36249914,  28.55145587,  28.71268992,\n",
       "        28.86642733,  29.15171312,  29.38327765,  29.09293604,\n",
       "        28.03394738,  27.01284543,  26.59844288,  26.51272352,\n",
       "        26.66990032,  27.13062644,  27.81619482,  28.56119444,\n",
       "        29.16328271,  29.44777433,  29.41363524,  29.01528078,\n",
       "        28.37055269,  27.79519033,  27.42464646,  27.12850045,\n",
       "        26.95195764,  26.96802918,  27.08303851,  27.34534196,\n",
       "        27.73523544,  28.15311416,  28.40244104,  28.42417073,\n",
       "        28.29816624,  27.89611066,  27.14789812,  26.39509623,\n",
       "        25.92822613,  25.4192138 ,  24.83689571,  24.76873023,\n",
       "        25.30634043,  25.7855483 ,  26.04520258,  26.23296021,\n",
       "        26.34758807,  26.26397259,  26.07487488,  25.88134189,\n",
       "        25.6044855 ,  25.24371392,  24.886251  ,  24.4341281 ,\n",
       "        23.95602518,  24.19934997,  25.48885815,  27.42059722,\n",
       "        29.83235467,  32.61858432,  35.68939337,  39.34907822,\n",
       "        43.56624273,  48.10981771,  52.68882215,  56.67117733,\n",
       "        58.82260316,  58.26645704,  57.44242001,  59.6146895 ,\n",
       "        62.94919516,  65.64559334,  69.17188947,  74.67491677,\n",
       "        82.37929637,  90.99669037,  98.57592555, 105.15021813,\n",
       "       111.55160006, 117.34454969, 121.58618861, 123.89802223,\n",
       "       124.54932779, 123.74893221, 120.17314579, 110.23606635,\n",
       "        90.72253647,  73.23353747,  71.1371638 ,  81.03655905,\n",
       "        93.3662737 , 101.38597349, 104.52693627, 105.15814042,\n",
       "       104.78006089, 103.7692776 , 102.36042566, 100.59356518,\n",
       "        98.2365438 ,  95.23275803,  92.38674409,  90.26187634,\n",
       "        88.40167568,  86.31609931,  83.96128603,  81.47939938,\n",
       "        78.99736943,  76.13623406,  72.27533768,  67.05996594,\n",
       "        60.78664744,  55.25889958,  52.33876409,  51.51333455,\n",
       "        51.25729889,  51.4319777 ,  51.83053578,  51.91215812,\n",
       "        52.14423467,  53.03472825,  54.32407099,  55.34906084,\n",
       "        55.79198797,  55.65376067,  54.96616905,  53.53634296,\n",
       "        51.42201901,  49.09102675,  47.07162214,  45.69383184,\n",
       "        44.81658655,  43.87649172,  42.56390089,  41.07612145,\n",
       "        40.0255493 ,  39.5043602 ,  39.09891842,  38.5353515 ,\n",
       "        37.9610756 ,  37.37860708,  36.7430528 ,  36.19089216,\n",
       "        35.64220565,  34.94134049,  33.81907455,  32.04264737,\n",
       "        29.60304385,  27.04693975,  25.17059897,  24.59231894,\n",
       "        24.56655773,  23.93043746,  22.66299689,  21.48782693,\n",
       "        20.57592777,  19.86497217,  19.57468244,  19.5657838 ,\n",
       "        19.202541  ,  18.18660505,  16.50477796,  14.30485616,\n",
       "        11.92192985,  10.09809566,   9.18339707,   9.08025299,\n",
       "         9.18082861,   9.07748729,   8.82881786,   8.64432846,\n",
       "         8.50142549,   8.39609332,   8.36821409,   8.35735255,\n",
       "         8.33612133,   8.40572118,   8.55884201,   8.74795955,\n",
       "         9.00355208])"
      ]
     },
     "execution_count": 9,
     "metadata": {},
     "output_type": "execute_result"
    }
   ],
   "source": [
    "ipca.mean_ "
   ]
  },
  {
   "cell_type": "code",
   "execution_count": 10,
   "id": "51f1775f",
   "metadata": {},
   "outputs": [],
   "source": [
    "np.save('data/kfold0_PcaExplainedVariance_.npy', ipca.explained_variance_)\n",
    "np.save('data/kfold0_PcaMean.npy', ipca.mean_)\n",
    "np.save('data/kfold0_PcaComponents.npy', ipca.components_)"
   ]
  },
  {
   "cell_type": "code",
   "execution_count": 12,
   "id": "cae96f67",
   "metadata": {},
   "outputs": [
    {
     "data": {
      "text/plain": [
       "array([1.67993122e+05, 3.32940284e+04, 2.89402278e+03, 1.14323898e+03,\n",
       "       9.04428596e+02, 5.68760994e+02, 2.92021398e+02, 2.07138123e+02,\n",
       "       1.43676712e+02, 1.37669745e+02, 7.45658290e+01, 5.45695061e+01,\n",
       "       4.15558740e+01, 3.04114182e+01, 1.97128098e+01, 1.83965865e+01,\n",
       "       1.66125194e+01])"
      ]
     },
     "execution_count": 12,
     "metadata": {},
     "output_type": "execute_result"
    }
   ],
   "source": [
    "ipca.explained_variance_"
   ]
  },
  {
   "cell_type": "code",
   "execution_count": null,
   "id": "8486b8dd",
   "metadata": {},
   "outputs": [],
   "source": []
  }
 ],
 "metadata": {
  "kernelspec": {
   "display_name": "Python 3 (ipykernel)",
   "language": "python",
   "name": "python3"
  },
  "language_info": {
   "codemirror_mode": {
    "name": "ipython",
    "version": 3
   },
   "file_extension": ".py",
   "mimetype": "text/x-python",
   "name": "python",
   "nbconvert_exporter": "python",
   "pygments_lexer": "ipython3",
   "version": "3.8.13"
  }
 },
 "nbformat": 4,
 "nbformat_minor": 5
}

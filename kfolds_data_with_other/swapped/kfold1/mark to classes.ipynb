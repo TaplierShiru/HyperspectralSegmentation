{
 "cells": [
  {
   "cell_type": "code",
   "execution_count": 1,
   "id": "b4a8a2e6",
   "metadata": {},
   "outputs": [],
   "source": [
    "import numpy as np\n",
    "arr = [0,\n",
    "6,\n",
    "1,\n",
    "6,\n",
    "6,\n",
    "6,\n",
    "6,\n",
    "2,\n",
    "6,\n",
    "6,\n",
    "6,\n",
    "6,\n",
    "3,\n",
    "4,\n",
    "5,\n",
    "6,\n",
    "6,\n",
    "\n",
    "]"
   ]
  },
  {
   "cell_type": "code",
   "execution_count": 2,
   "id": "5255d71a",
   "metadata": {},
   "outputs": [],
   "source": [
    "np.save('data/index2class.npy', np.asarray(arr).reshape(-1))"
   ]
  },
  {
   "cell_type": "code",
   "execution_count": 3,
   "id": "5c2fec25",
   "metadata": {},
   "outputs": [
    {
     "data": {
      "text/plain": [
       "array([0, 6, 1, 6, 6, 6, 6, 2, 6, 6, 6, 6, 3, 4, 5, 6, 6])"
      ]
     },
     "execution_count": 3,
     "metadata": {},
     "output_type": "execute_result"
    }
   ],
   "source": [
    "np.load('data/index2class.npy')"
   ]
  },
  {
   "cell_type": "code",
   "execution_count": null,
   "id": "5f6960c2",
   "metadata": {},
   "outputs": [],
   "source": []
  }
 ],
 "metadata": {
  "kernelspec": {
   "display_name": "Python 3 (ipykernel)",
   "language": "python",
   "name": "python3"
  },
  "language_info": {
   "codemirror_mode": {
    "name": "ipython",
    "version": 3
   },
   "file_extension": ".py",
   "mimetype": "text/x-python",
   "name": "python",
   "nbconvert_exporter": "python",
   "pygments_lexer": "ipython3",
   "version": "3.8.13"
  }
 },
 "nbformat": 4,
 "nbformat_minor": 5
}

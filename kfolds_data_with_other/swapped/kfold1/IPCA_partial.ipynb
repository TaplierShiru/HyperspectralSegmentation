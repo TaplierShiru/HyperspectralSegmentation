{
 "cells": [
  {
   "cell_type": "code",
   "execution_count": 1,
   "id": "deb4d1a5",
   "metadata": {},
   "outputs": [],
   "source": [
    "import os\n",
    "os.environ['CUDA_VISIBLE_DEVICES'] = \"1\"\n",
    "\n",
    "import sys\n",
    "sys.path.append('/home/rustam/hyperspecter_segmentation/makitorch')"
   ]
  },
  {
   "cell_type": "code",
   "execution_count": 2,
   "id": "70073bf5",
   "metadata": {},
   "outputs": [
    {
     "name": "stderr",
     "output_type": "stream",
     "text": [
      "/opt/conda/lib/python3.8/site-packages/tqdm/auto.py:22: TqdmWarning: IProgress not found. Please update jupyter and ipywidgets. See https://ipywidgets.readthedocs.io/en/stable/user_install.html\n",
      "  from .autonotebook import tqdm as notebook_tqdm\n"
     ]
    }
   ],
   "source": [
    "import numpy as np\n",
    "import torch\n",
    "import matplotlib.pyplot as plt\n",
    "import seaborn as sns\n",
    "\n",
    "from sklearn.decomposition import IncrementalPCA\n",
    "from hsi_dataset_api import HsiDataset\n",
    "\n",
    "from makitorch.dataloaders.HsiDataloader import HsiDataloader\n",
    "\n",
    "from tqdm import tqdm"
   ]
  },
  {
   "cell_type": "code",
   "execution_count": 3,
   "id": "b67a36f7",
   "metadata": {},
   "outputs": [],
   "source": [
    "train_indices = np.load('data/kfold1_indx_train.npy')"
   ]
  },
  {
   "cell_type": "code",
   "execution_count": 4,
   "id": "1cfb4a3d",
   "metadata": {},
   "outputs": [],
   "source": [
    "BATCH_SIZE = 32\n",
    "dataset_hsi_loader = HsiDataloader(\n",
    "    '/raid/rustam/hyperspectral_dataset/new_cropped_hsi_data', \n",
    "    indices=train_indices,\n",
    "    shuffle_data=True,\n",
    ")\n",
    "\n",
    "data_loader = torch.utils.data.DataLoader(dataset_hsi_loader, batch_size=BATCH_SIZE)"
   ]
  },
  {
   "cell_type": "code",
   "execution_count": 5,
   "id": "c007b884",
   "metadata": {
    "scrolled": true
   },
   "outputs": [
    {
     "name": "stderr",
     "output_type": "stream",
     "text": [
      "8it [22:09, 166.19s/it]\n"
     ]
    }
   ],
   "source": [
    "ipca = IncrementalPCA(n_components=17, whiten=True, batch_size=BATCH_SIZE)\n",
    "\n",
    "iterator = tqdm(data_loader)\n",
    "\n",
    "for img_batch, _ in iterator:\n",
    "    # (N, C, H, W) --> (N, H, W, C)\n",
    "    img_batch = img_batch.permute(0, 2, 3, 1)\n",
    "    # (N, H, W, C) --> (N * H * W, C)\n",
    "    img_batch = img_batch.reshape(-1, img_batch.shape[-1]).numpy()\n",
    "    ipca.partial_fit(img_batch)\n",
    "iterator.close()"
   ]
  },
  {
   "cell_type": "code",
   "execution_count": 6,
   "id": "5fc9f254",
   "metadata": {},
   "outputs": [
    {
     "data": {
      "text/plain": [
       "array([[ 0.00664487,  0.00698243,  0.00731702, ...,  0.01326868,\n",
       "         0.01358837,  0.0139171 ],\n",
       "       [ 0.01829497,  0.01998002,  0.02136745, ...,  0.00230522,\n",
       "         0.00222103,  0.00209617],\n",
       "       [-0.02799355, -0.02930655, -0.03040635, ..., -0.03724863,\n",
       "        -0.03653305, -0.03615084],\n",
       "       ...,\n",
       "       [ 0.01437053,  0.01375595,  0.01875746, ..., -0.03346951,\n",
       "        -0.03268389, -0.02393122],\n",
       "       [-0.07155322, -0.06864634, -0.06060989, ..., -0.08223515,\n",
       "        -0.07973968, -0.07791437],\n",
       "       [ 0.07024197,  0.07552695,  0.08006636, ..., -0.04590988,\n",
       "        -0.04802529, -0.05220174]])"
      ]
     },
     "execution_count": 6,
     "metadata": {},
     "output_type": "execute_result"
    }
   ],
   "source": [
    "ipca.components_"
   ]
  },
  {
   "cell_type": "code",
   "execution_count": 7,
   "id": "fbb12208",
   "metadata": {},
   "outputs": [
    {
     "data": {
      "text/plain": [
       "(17, 237)"
      ]
     },
     "execution_count": 7,
     "metadata": {},
     "output_type": "execute_result"
    }
   ],
   "source": [
    "ipca.components_.shape"
   ]
  },
  {
   "cell_type": "code",
   "execution_count": 8,
   "id": "8b38fda9",
   "metadata": {},
   "outputs": [
    {
     "data": {
      "text/plain": [
       "array([1.77183243e+05, 3.82642525e+04, 2.89676906e+03, 1.18570837e+03,\n",
       "       1.11131965e+03, 5.76405503e+02, 3.32988200e+02, 2.19422378e+02,\n",
       "       1.49255630e+02, 1.41434758e+02, 7.73961385e+01, 5.84206402e+01,\n",
       "       4.31785834e+01, 3.16236142e+01, 2.13325104e+01, 2.10315602e+01,\n",
       "       1.80047197e+01])"
      ]
     },
     "execution_count": 8,
     "metadata": {},
     "output_type": "execute_result"
    }
   ],
   "source": [
    "ipca.explained_variance_"
   ]
  },
  {
   "cell_type": "code",
   "execution_count": 9,
   "id": "7bfa0ab7",
   "metadata": {
    "scrolled": true
   },
   "outputs": [
    {
     "data": {
      "text/plain": [
       "array([  4.80992745,   5.09708915,   5.35325398,   5.68790162,\n",
       "         6.02362356,   6.32627559,   6.68366381,   7.03335737,\n",
       "         7.25175165,   7.4802683 ,   7.7820673 ,   8.09130239,\n",
       "         8.36870548,   8.59310481,   8.774696  ,   8.91829384,\n",
       "         9.10780792,   9.42017749,   9.80533552,  10.21830929,\n",
       "        10.61795905,  10.82332271,  10.77663403,  10.68117908,\n",
       "        10.99071614,  11.55627802,  12.13291299,  12.65484664,\n",
       "        13.05610256,  13.27352378,  13.42721788,  13.71519524,\n",
       "        14.17433812,  14.72565956,  15.31428418,  15.8381623 ,\n",
       "        16.20453666,  16.69989195,  17.56469612,  18.63050296,\n",
       "        19.66052322,  20.73500225,  21.99046769,  23.27012655,\n",
       "        24.35160774,  25.26446582,  25.89704789,  26.23772341,\n",
       "        26.60433157,  26.95160314,  27.30930305,  27.88480701,\n",
       "        28.66981087,  29.4014629 ,  29.87071768,  30.07454945,\n",
       "        30.11349967,  29.88142977,  29.40048946,  28.87040057,\n",
       "        28.47889136,  28.44256091,  28.63273582,  28.8045249 ,\n",
       "        28.99232257,  29.31552941,  29.57563744,  29.3192798 ,\n",
       "        28.32369633,  27.33964515,  26.92300984,  26.82437221,\n",
       "        26.9663757 ,  27.41763922,  28.09504121,  28.84411368,\n",
       "        29.46290838,  29.77200292,  29.76386682,  29.3965704 ,\n",
       "        28.7829723 ,  28.22534895,  27.85864507,  27.56487775,\n",
       "        27.38339456,  27.39073733,  27.49968144,  27.75737281,\n",
       "        28.14657693,  28.56571026,  28.83177894,  28.87756252,\n",
       "        28.77275314,  28.39993486,  27.67936395,  26.94589103,\n",
       "        26.47089097,  25.94612606,  25.36363098,  25.30515149,\n",
       "        25.82066657,  26.29695498,  26.58853545,  26.79966483,\n",
       "        26.93096121,  26.86532774,  26.68855386,  26.48717898,\n",
       "        26.19448832,  25.82568183,  25.44893155,  24.94657199,\n",
       "        24.43013655,  24.63158841,  25.81825371,  27.64914697,\n",
       "        29.98331769,  32.6724076 ,  35.64892144,  39.19864887,\n",
       "        43.29042999,  47.69356786,  52.15275717,  56.03778992,\n",
       "        58.14345345,  57.60807862,  56.82879871,  58.80449502,\n",
       "        61.88123078,  64.4663775 ,  67.87097079,  73.14952871,\n",
       "        80.5332619 ,  88.80648764,  96.18335787, 102.61876392,\n",
       "       108.8108009 , 114.4041378 , 118.5483044 , 120.85510243,\n",
       "       121.54122403, 120.81298904, 117.39891575, 107.79746512,\n",
       "        89.1472514 ,  72.42875519,  69.91121937,  78.99630071,\n",
       "        90.70594625,  98.64760106, 101.92749159, 102.67939281,\n",
       "       102.37400107, 101.42099773, 100.07037298,  98.34074942,\n",
       "        96.0693072 ,  93.19483083,  90.43073066,  88.32324187,\n",
       "        86.51125422,  84.48876157,  82.2063378 ,  79.79553088,\n",
       "        77.38015405,  74.58573982,  70.83209306,  65.7668361 ,\n",
       "        59.70007914,  54.34379228,  51.4076431 ,  50.48504299,\n",
       "        50.21622798,  50.38579871,  50.74746089,  50.86384503,\n",
       "        51.11618439,  51.9673042 ,  53.20249782,  54.21043425,\n",
       "        54.6716894 ,  54.57234152,  53.91570296,  52.55178428,\n",
       "        50.51648108,  48.25363525,  46.29392851,  44.92830815,\n",
       "        44.03237411,  43.11045589,  41.83880801,  40.41002971,\n",
       "        39.37796246,  38.84519984,  38.44006891,  37.8940709 ,\n",
       "        37.33365111,  36.7681102 ,  36.15455001,  35.61415656,\n",
       "        35.07387789,  34.38763275,  33.29750579,  31.5662676 ,\n",
       "        29.20885293,  26.72832777,  24.89758697,  24.28392498,\n",
       "        24.20126735,  23.58754133,  22.39601965,  21.25224937,\n",
       "        20.34166633,  19.64988381,  19.3560695 ,  19.32581836,\n",
       "        18.97550206,  18.00811818,  16.37959859,  14.23245878,\n",
       "        11.92289611,  10.1327428 ,   9.21392778,   9.08137037,\n",
       "         9.15340629,   9.05163317,   8.82420953,   8.64694363,\n",
       "         8.50552362,   8.40364774,   8.3755633 ,   8.36632792,\n",
       "         8.3528758 ,   8.42354568,   8.5731901 ,   8.76371268,\n",
       "         9.01277855])"
      ]
     },
     "execution_count": 9,
     "metadata": {},
     "output_type": "execute_result"
    }
   ],
   "source": [
    "ipca.mean_ "
   ]
  },
  {
   "cell_type": "code",
   "execution_count": 12,
   "id": "9c0f4786",
   "metadata": {},
   "outputs": [],
   "source": [
    "np.save('data/kfold1_PcaExplainedVariance_.npy', ipca.explained_variance_)\n",
    "np.save('data/kfold1_PcaMean.npy', ipca.mean_)\n",
    "np.save('data/kfold1_PcaComponents.npy', ipca.components_)"
   ]
  },
  {
   "cell_type": "code",
   "execution_count": 13,
   "id": "75687a39",
   "metadata": {},
   "outputs": [
    {
     "data": {
      "text/plain": [
       "array([1.77183243e+05, 3.82642525e+04, 2.89676906e+03, 1.18570837e+03,\n",
       "       1.11131965e+03, 5.76405503e+02, 3.32988200e+02, 2.19422378e+02,\n",
       "       1.49255630e+02, 1.41434758e+02, 7.73961385e+01, 5.84206402e+01,\n",
       "       4.31785834e+01, 3.16236142e+01, 2.13325104e+01, 2.10315602e+01,\n",
       "       1.80047197e+01])"
      ]
     },
     "execution_count": 13,
     "metadata": {},
     "output_type": "execute_result"
    }
   ],
   "source": [
    "ipca.explained_variance_"
   ]
  },
  {
   "cell_type": "code",
   "execution_count": null,
   "id": "1876b703",
   "metadata": {},
   "outputs": [],
   "source": []
  }
 ],
 "metadata": {
  "kernelspec": {
   "display_name": "Python 3 (ipykernel)",
   "language": "python",
   "name": "python3"
  },
  "language_info": {
   "codemirror_mode": {
    "name": "ipython",
    "version": 3
   },
   "file_extension": ".py",
   "mimetype": "text/x-python",
   "name": "python",
   "nbconvert_exporter": "python",
   "pygments_lexer": "ipython3",
   "version": "3.8.13"
  }
 },
 "nbformat": 4,
 "nbformat_minor": 5
}

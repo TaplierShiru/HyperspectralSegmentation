{
 "cells": [
  {
   "cell_type": "code",
   "execution_count": 1,
   "id": "90da327e",
   "metadata": {},
   "outputs": [],
   "source": [
    "import os\n",
    "os.environ['CUDA_VISIBLE_DEVICES'] = \"1\"\n",
    "\n",
    "import sys\n",
    "sys.path.append('/home/rustam/hyperspecter_segmentation/makitorch')"
   ]
  },
  {
   "cell_type": "code",
   "execution_count": 2,
   "id": "84383830",
   "metadata": {},
   "outputs": [
    {
     "name": "stderr",
     "output_type": "stream",
     "text": [
      "/opt/conda/lib/python3.8/site-packages/tqdm/auto.py:22: TqdmWarning: IProgress not found. Please update jupyter and ipywidgets. See https://ipywidgets.readthedocs.io/en/stable/user_install.html\n",
      "  from .autonotebook import tqdm as notebook_tqdm\n"
     ]
    }
   ],
   "source": [
    "import numpy as np\n",
    "import torch\n",
    "import matplotlib.pyplot as plt\n",
    "import seaborn as sns\n",
    "\n",
    "from sklearn.decomposition import IncrementalPCA\n",
    "from hsi_dataset_api import HsiDataset\n",
    "\n",
    "from makitorch.dataloaders.HsiDataloader import HsiDataloader\n",
    "\n",
    "from tqdm import tqdm"
   ]
  },
  {
   "cell_type": "code",
   "execution_count": 3,
   "id": "c8d5436a",
   "metadata": {},
   "outputs": [],
   "source": [
    "train_indices = np.load('data/kfold2_indx_train.npy')"
   ]
  },
  {
   "cell_type": "code",
   "execution_count": 4,
   "id": "35a0bdc4",
   "metadata": {},
   "outputs": [],
   "source": [
    "BATCH_SIZE = 32\n",
    "dataset_hsi_loader = HsiDataloader(\n",
    "    '/raid/rustam/hyperspectral_dataset/new_cropped_hsi_data', \n",
    "    indices=train_indices,\n",
    "    shuffle_data=True,\n",
    ")\n",
    "\n",
    "data_loader = torch.utils.data.DataLoader(dataset_hsi_loader, batch_size=BATCH_SIZE)"
   ]
  },
  {
   "cell_type": "code",
   "execution_count": 5,
   "id": "ef1710df",
   "metadata": {
    "scrolled": true
   },
   "outputs": [
    {
     "name": "stderr",
     "output_type": "stream",
     "text": [
      "6it [17:51, 178.54s/it]\n"
     ]
    }
   ],
   "source": [
    "ipca = IncrementalPCA(n_components=17, whiten=True, batch_size=BATCH_SIZE)\n",
    "\n",
    "iterator = tqdm(data_loader)\n",
    "\n",
    "for img_batch, _ in iterator:\n",
    "    # (N, C, H, W) --> (N, H, W, C)\n",
    "    img_batch = img_batch.permute(0, 2, 3, 1)\n",
    "    # (N, H, W, C) --> (N * H * W, C)\n",
    "    img_batch = img_batch.reshape(-1, img_batch.shape[-1]).numpy()\n",
    "    ipca.partial_fit(img_batch)\n",
    "iterator.close()"
   ]
  },
  {
   "cell_type": "code",
   "execution_count": 6,
   "id": "e2e2b7cb",
   "metadata": {},
   "outputs": [
    {
     "data": {
      "text/plain": [
       "array([[ 0.00574835,  0.0060122 ,  0.00626566, ...,  0.01313406,\n",
       "         0.01347327,  0.01384627],\n",
       "       [ 0.01512712,  0.01680658,  0.01785282, ...,  0.00096721,\n",
       "         0.00091768,  0.00091608],\n",
       "       [-0.02285927, -0.02398215, -0.02454252, ..., -0.0338058 ,\n",
       "        -0.03310942, -0.03268486],\n",
       "       ...,\n",
       "       [-0.04952149, -0.04730101, -0.04611028, ..., -0.03551168,\n",
       "        -0.02929392, -0.02532326],\n",
       "       [-0.04572145, -0.04558128, -0.04204976, ..., -0.05407019,\n",
       "        -0.05234802, -0.04205934],\n",
       "       [-0.02361013, -0.01940358, -0.01499578, ..., -0.02122218,\n",
       "        -0.02086222, -0.02073657]])"
      ]
     },
     "execution_count": 6,
     "metadata": {},
     "output_type": "execute_result"
    }
   ],
   "source": [
    "ipca.components_"
   ]
  },
  {
   "cell_type": "code",
   "execution_count": 7,
   "id": "71bbaf61",
   "metadata": {},
   "outputs": [
    {
     "data": {
      "text/plain": [
       "(17, 237)"
      ]
     },
     "execution_count": 7,
     "metadata": {},
     "output_type": "execute_result"
    }
   ],
   "source": [
    "ipca.components_.shape"
   ]
  },
  {
   "cell_type": "code",
   "execution_count": 8,
   "id": "6ec37a51",
   "metadata": {},
   "outputs": [
    {
     "data": {
      "text/plain": [
       "array([1.73538368e+05, 3.15140188e+04, 2.98223137e+03, 1.25418636e+03,\n",
       "       7.57441946e+02, 4.29743152e+02, 2.34572154e+02, 2.18572276e+02,\n",
       "       1.37720699e+02, 1.26521094e+02, 6.42988639e+01, 4.98609971e+01,\n",
       "       3.99558403e+01, 2.33675735e+01, 1.99581304e+01, 1.60651840e+01,\n",
       "       1.28171544e+01])"
      ]
     },
     "execution_count": 8,
     "metadata": {},
     "output_type": "execute_result"
    }
   ],
   "source": [
    "ipca.explained_variance_"
   ]
  },
  {
   "cell_type": "code",
   "execution_count": 9,
   "id": "0cddc11a",
   "metadata": {
    "scrolled": true
   },
   "outputs": [
    {
     "data": {
      "text/plain": [
       "array([  4.51935929,   4.80161579,   5.02678952,   5.32928533,\n",
       "         5.65460011,   5.93797931,   6.26567018,   6.60816844,\n",
       "         6.81085579,   7.01186972,   7.29501373,   7.59144566,\n",
       "         7.848941  ,   8.0543867 ,   8.2246508 ,   8.35293983,\n",
       "         8.52313606,   8.82176103,   9.19071309,   9.57801058,\n",
       "         9.9591506 ,  10.15472266,  10.1207848 ,   9.99886318,\n",
       "        10.2749168 ,  10.84063615,  11.40019426,  11.89140605,\n",
       "        12.2861446 ,  12.49925665,  12.64028515,  12.91633562,\n",
       "        13.3786103 ,  13.94441087,  14.55503588,  15.11802414,\n",
       "        15.5289067 ,  16.04815624,  16.9486935 ,  18.06949935,\n",
       "        19.16083271,  20.26702795,  21.56078774,  22.9024115 ,\n",
       "        24.01132122,  24.94967176,  25.61914482,  25.94823693,\n",
       "        26.31206379,  26.66613935,  27.01736732,  27.58954616,\n",
       "        28.3882942 ,  29.12754494,  29.59059297,  29.76230531,\n",
       "        29.76982792,  29.49958911,  28.9552366 ,  28.36575587,\n",
       "        27.90232657,  27.79452291,  27.94273744,  28.08135309,\n",
       "        28.22042409,  28.48832185,  28.70383423,  28.44043324,\n",
       "        27.37379502,  26.30405482,  25.87031078,  25.79111852,\n",
       "        25.94615727,  26.4129829 ,  27.10387471,  27.85190868,\n",
       "        28.46130121,  28.74466923,  28.71976387,  28.34032161,\n",
       "        27.69770775,  27.11472798,  26.74730662,  26.46016761,\n",
       "        26.27363606,  26.29181274,  26.40240407,  26.65316189,\n",
       "        27.03485247,  27.44995828,  27.70726345,  27.73082553,\n",
       "        27.61167111,  27.23916612,  26.49585844,  25.72084163,\n",
       "        25.25501569,  24.78884328,  24.21214211,  24.10540396,\n",
       "        24.62754832,  25.10229227,  25.35860309,  25.54037144,\n",
       "        25.67208629,  25.6109291 ,  25.43056336,  25.2531245 ,\n",
       "        25.00256382,  24.67176387,  24.3506276 ,  23.96650957,\n",
       "        23.51624674,  23.72483077,  24.96303041,  26.82628172,\n",
       "        29.21789475,  31.98932132,  35.06563512,  38.73148468,\n",
       "        42.98754054,  47.57677883,  52.25981108,  56.33557712,\n",
       "        58.65002505,  58.12840139,  57.15351814,  59.19933675,\n",
       "        62.60382406,  65.33315085,  68.90014994,  74.38602186,\n",
       "        82.17315919,  91.01837144,  98.95716808, 105.82475405,\n",
       "       112.41873672, 118.41040564, 122.87838138, 125.39610996,\n",
       "       126.19330134, 125.44205063, 121.84516721, 112.2196453 ,\n",
       "        93.33476896,  75.60780884,  72.35547963,  81.66474435,\n",
       "        94.08142995, 102.50458193, 105.95518681, 106.67780961,\n",
       "       106.35021094, 105.35519517, 103.91353184, 102.08033377,\n",
       "        99.69201407,  96.63939375,  93.6896582 ,  91.4837736 ,\n",
       "        89.59809512,  87.47016507,  85.06273765,  82.54496208,\n",
       "        80.05749751,  77.18083187,  73.26888585,  67.96336946,\n",
       "        61.54952659,  55.79934107,  52.62886151,  51.73580601,\n",
       "        51.4744644 ,  51.66845038,  52.08550143,  52.23165376,\n",
       "        52.48759438,  53.38664631,  54.72302054,  55.84127025,\n",
       "        56.38372461,  56.33465011,  55.71028816,  54.33734994,\n",
       "        52.23895192,  49.88734288,  47.82895694,  46.41107449,\n",
       "        45.48550581,  44.5402569 ,  43.22771134,  41.72701096,\n",
       "        40.62850661,  40.08006744,  39.65588327,  39.07705285,\n",
       "        38.48735164,  37.8976754 ,  37.24593221,  36.67023326,\n",
       "        36.09989404,  35.37911588,  34.22983383,  32.4116571 ,\n",
       "        29.92099682,  27.28210955,  25.29590469,  24.62141582,\n",
       "        24.59729054,  23.98822395,  22.71524048,  21.51454077,\n",
       "        20.56772761,  19.83556947,  19.53459179,  19.55394671,\n",
       "        19.23294467,  18.23332692,  16.54111836,  14.31682738,\n",
       "        11.91998197,  10.07111369,   9.11636816,   8.98370988,\n",
       "         9.08015504,   8.97114275,   8.73254422,   8.56320035,\n",
       "         8.42322287,   8.31693182,   8.28533654,   8.28267063,\n",
       "         8.26848155,   8.34291814,   8.50578234,   8.70393567,\n",
       "         8.97858285])"
      ]
     },
     "execution_count": 9,
     "metadata": {},
     "output_type": "execute_result"
    }
   ],
   "source": [
    "ipca.mean_ "
   ]
  },
  {
   "cell_type": "code",
   "execution_count": 12,
   "id": "a86dc889",
   "metadata": {},
   "outputs": [],
   "source": [
    "np.save('data/kfold2_PcaExplainedVariance_.npy', ipca.explained_variance_)\n",
    "np.save('data/kfold2_PcaMean.npy', ipca.mean_)\n",
    "np.save('data/kfold2_PcaComponents.npy', ipca.components_)"
   ]
  },
  {
   "cell_type": "code",
   "execution_count": 13,
   "id": "aa551c93",
   "metadata": {},
   "outputs": [
    {
     "data": {
      "text/plain": [
       "array([1.73538368e+05, 3.15140188e+04, 2.98223137e+03, 1.25418636e+03,\n",
       "       7.57441946e+02, 4.29743152e+02, 2.34572154e+02, 2.18572276e+02,\n",
       "       1.37720699e+02, 1.26521094e+02, 6.42988639e+01, 4.98609971e+01,\n",
       "       3.99558403e+01, 2.33675735e+01, 1.99581304e+01, 1.60651840e+01,\n",
       "       1.28171544e+01])"
      ]
     },
     "execution_count": 13,
     "metadata": {},
     "output_type": "execute_result"
    }
   ],
   "source": [
    "ipca.explained_variance_"
   ]
  },
  {
   "cell_type": "code",
   "execution_count": null,
   "id": "4a2b123f",
   "metadata": {},
   "outputs": [],
   "source": []
  }
 ],
 "metadata": {
  "kernelspec": {
   "display_name": "Python 3 (ipykernel)",
   "language": "python",
   "name": "python3"
  },
  "language_info": {
   "codemirror_mode": {
    "name": "ipython",
    "version": 3
   },
   "file_extension": ".py",
   "mimetype": "text/x-python",
   "name": "python",
   "nbconvert_exporter": "python",
   "pygments_lexer": "ipython3",
   "version": "3.8.13"
  }
 },
 "nbformat": 4,
 "nbformat_minor": 5
}

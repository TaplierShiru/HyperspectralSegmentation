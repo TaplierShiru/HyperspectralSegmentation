{
 "cells": [
  {
   "cell_type": "code",
   "execution_count": 2,
   "id": "20f83900",
   "metadata": {},
   "outputs": [],
   "source": [
    "import os\n",
    "os.environ['CUDA_VISIBLE_DEVICES'] = \"1\"\n",
    "\n",
    "import sys\n",
    "sys.path.append('/home/rustam/hyperspecter_segmentation/makitorch')"
   ]
  },
  {
   "cell_type": "code",
   "execution_count": 3,
   "id": "b2b46f56",
   "metadata": {},
   "outputs": [
    {
     "name": "stderr",
     "output_type": "stream",
     "text": [
      "/opt/conda/lib/python3.8/site-packages/tqdm/auto.py:22: TqdmWarning: IProgress not found. Please update jupyter and ipywidgets. See https://ipywidgets.readthedocs.io/en/stable/user_install.html\n",
      "  from .autonotebook import tqdm as notebook_tqdm\n"
     ]
    }
   ],
   "source": [
    "import numpy as np\n",
    "import torch\n",
    "import matplotlib.pyplot as plt\n",
    "import seaborn as sns\n",
    "\n",
    "from sklearn.decomposition import IncrementalPCA\n",
    "from hsi_dataset_api import HsiDataset\n",
    "\n",
    "from makitorch.dataloaders.HsiDataloader import HsiDataloader\n",
    "\n",
    "from tqdm import tqdm"
   ]
  },
  {
   "cell_type": "code",
   "execution_count": 4,
   "id": "537ac462",
   "metadata": {},
   "outputs": [],
   "source": [
    "train_indices = np.load('data/kfold0_indx_train.npy')"
   ]
  },
  {
   "cell_type": "code",
   "execution_count": 5,
   "id": "86f5c4da",
   "metadata": {},
   "outputs": [],
   "source": [
    "BATCH_SIZE = 32\n",
    "dataset_hsi_loader = HsiDataloader(\n",
    "    '/raid/rustam/hyperspectral_dataset/new_cropped_hsi_data', \n",
    "    indices=train_indices,\n",
    "    shuffle_data=True,\n",
    ")\n",
    "\n",
    "data_loader = torch.utils.data.DataLoader(dataset_hsi_loader, batch_size=BATCH_SIZE)"
   ]
  },
  {
   "cell_type": "code",
   "execution_count": 6,
   "id": "0340a3f5",
   "metadata": {
    "scrolled": true
   },
   "outputs": [
    {
     "name": "stderr",
     "output_type": "stream",
     "text": [
      "8it [20:43, 155.38s/it]\n"
     ]
    }
   ],
   "source": [
    "ipca = IncrementalPCA(n_components=17, whiten=True, batch_size=BATCH_SIZE)\n",
    "\n",
    "iterator = tqdm(data_loader)\n",
    "\n",
    "for img_batch, _ in iterator:\n",
    "    # (N, C, H, W) --> (N, H, W, C)\n",
    "    img_batch = img_batch.permute(0, 2, 3, 1)\n",
    "    # (N, H, W, C) --> (N * H * W, C)\n",
    "    img_batch = img_batch.reshape(-1, img_batch.shape[-1]).numpy()\n",
    "    ipca.partial_fit(img_batch)\n",
    "iterator.close()"
   ]
  },
  {
   "cell_type": "code",
   "execution_count": 7,
   "id": "fd58318e",
   "metadata": {},
   "outputs": [
    {
     "data": {
      "text/plain": [
       "array([[ 0.00592977,  0.00620114,  0.00648811, ...,  0.01307005,\n",
       "         0.01338683,  0.0137318 ],\n",
       "       [ 0.01680339,  0.01839626,  0.01970557, ...,  0.0024214 ,\n",
       "         0.00232731,  0.00222623],\n",
       "       [-0.02308232, -0.02407542, -0.02500362, ..., -0.03638205,\n",
       "        -0.03553838, -0.03495494],\n",
       "       ...,\n",
       "       [-0.09040377, -0.08883746, -0.07986533, ..., -0.08103579,\n",
       "        -0.07863147, -0.07355542],\n",
       "       [ 0.0265192 ,  0.02200145,  0.0252962 , ..., -0.00910596,\n",
       "        -0.00938501, -0.00223727],\n",
       "       [ 0.00479922,  0.0066775 ,  0.01479004, ...,  0.00214682,\n",
       "         0.00400002,  0.00439974]])"
      ]
     },
     "execution_count": 7,
     "metadata": {},
     "output_type": "execute_result"
    }
   ],
   "source": [
    "ipca.components_"
   ]
  },
  {
   "cell_type": "code",
   "execution_count": 8,
   "id": "48782f8b",
   "metadata": {},
   "outputs": [
    {
     "data": {
      "text/plain": [
       "(17, 237)"
      ]
     },
     "execution_count": 8,
     "metadata": {},
     "output_type": "execute_result"
    }
   ],
   "source": [
    "ipca.components_.shape"
   ]
  },
  {
   "cell_type": "code",
   "execution_count": 9,
   "id": "d42fd352",
   "metadata": {},
   "outputs": [
    {
     "data": {
      "text/plain": [
       "array([1.70858690e+05, 3.62624393e+04, 2.79299915e+03, 1.13751374e+03,\n",
       "       9.48780144e+02, 5.17981251e+02, 2.91816937e+02, 2.18061813e+02,\n",
       "       1.40690878e+02, 1.20776839e+02, 7.40887453e+01, 5.57834527e+01,\n",
       "       4.05165564e+01, 2.76996196e+01, 1.97714034e+01, 1.81361902e+01,\n",
       "       1.53609412e+01])"
      ]
     },
     "execution_count": 9,
     "metadata": {},
     "output_type": "execute_result"
    }
   ],
   "source": [
    "ipca.explained_variance_"
   ]
  },
  {
   "cell_type": "code",
   "execution_count": 10,
   "id": "0860bb03",
   "metadata": {
    "scrolled": true
   },
   "outputs": [
    {
     "data": {
      "text/plain": [
       "array([  4.73259056,   5.01937824,   5.27343558,   5.59651924,\n",
       "         5.93002443,   6.23108354,   6.58426591,   6.93343109,\n",
       "         7.14824705,   7.37758247,   7.67928938,   7.98181139,\n",
       "         8.26026634,   8.48396604,   8.66173564,   8.80558231,\n",
       "         8.99238655,   9.30637363,   9.69032632,  10.09900292,\n",
       "        10.50196223,  10.70143042,  10.64464234,  10.55041767,\n",
       "        10.87109328,  11.43650165,  12.00198717,  12.52461403,\n",
       "        12.92949804,  13.14481747,  13.3078103 ,  13.61076554,\n",
       "        14.07450028,  14.62883037,  15.22879231,  15.76351723,\n",
       "        16.14302388,  16.64785209,  17.53635676,  18.60926548,\n",
       "        19.63058877,  20.71080367,  21.97831657,  23.25521175,\n",
       "        24.32389835,  25.23159527,  25.8571247 ,  26.19710178,\n",
       "        26.55213677,  26.89074212,  27.23674557,  27.80154447,\n",
       "        28.5748337 ,  29.30362954,  29.77647453,  29.9735202 ,\n",
       "        30.00867278,  29.7824472 ,  29.30461842,  28.77366498,\n",
       "        28.39598718,  28.38104181,  28.57750588,  28.74600943,\n",
       "        28.95787323,  29.31973375,  29.59203921,  29.32179779,\n",
       "        28.29241838,  27.32010276,  26.92442479,  26.83700461,\n",
       "        27.00891162,  27.49280776,  28.18471609,  28.95692442,\n",
       "        29.59216319,  29.90611135,  29.89450314,  29.52648623,\n",
       "        28.90899016,  28.3461632 ,  27.98195869,  27.69530539,\n",
       "        27.51397894,  27.5154031 ,  27.621495  ,  27.88897697,\n",
       "        28.29381558,  28.72122582,  28.99786753,  29.05207527,\n",
       "        28.9484146 ,  28.56343681,  27.8221522 ,  27.08520919,\n",
       "        26.60917095,  26.06965758,  25.47291423,  25.43727625,\n",
       "        25.97105776,  26.43864471,  26.736062  ,  26.95187115,\n",
       "        27.07249474,  27.00503162,  26.83006879,  26.61833614,\n",
       "        26.30999898,  25.9365576 ,  25.55776302,  25.03602036,\n",
       "        24.50972505,  24.73625165,  25.92413412,  27.72369902,\n",
       "        30.07581773,  32.73131682,  35.67823241,  39.1939749 ,\n",
       "        43.24006477,  47.60383221,  52.01873983,  55.8339963 ,\n",
       "        57.81374165,  57.08288424,  56.28113604,  58.29265951,\n",
       "        61.24020767,  63.72924614,  67.11708598,  72.37452462,\n",
       "        79.81621657,  88.04953088,  95.41535105, 101.92510841,\n",
       "       108.18221735, 113.78054242, 117.86888384, 120.14756641,\n",
       "       120.80238382, 120.02761145, 116.60759387, 106.71995255,\n",
       "        88.00426122,  71.86956197,  69.56215776,  78.45886682,\n",
       "        89.93016591,  97.77755533, 101.10540226, 101.90990341,\n",
       "       101.60377288, 100.67079238,  99.33002323,  97.58988195,\n",
       "        95.24633016,  92.36243872,  89.64029382,  87.57757627,\n",
       "        85.76493765,  83.7374851 ,  81.45355728,  79.0595745 ,\n",
       "        76.68720987,  73.93621845,  70.17215148,  65.04611194,\n",
       "        58.96753539,  53.68163199,  50.82297262,  49.91642867,\n",
       "        49.6361511 ,  49.84734132,  50.20898504,  50.31726817,\n",
       "        50.61429   ,  51.50369632,  52.74076273,  53.75780725,\n",
       "        54.24083857,  54.17352385,  53.53460528,  52.19082685,\n",
       "        50.17269887,  47.92770071,  45.97515043,  44.65392869,\n",
       "        43.76288596,  42.83740733,  41.56911144,  40.15398959,\n",
       "        39.14959268,  38.62305678,  38.20056308,  37.66709353,\n",
       "        37.11000364,  36.53583279,  35.93180481,  35.39978656,\n",
       "        34.85831214,  34.15544234,  33.06049422,  31.31098804,\n",
       "        28.91844053,  26.44172488,  24.64036731,  24.03580813,\n",
       "        23.95321833,  23.31672141,  22.13029529,  21.01490119,\n",
       "        20.09005863,  19.40457115,  19.13241701,  19.11647464,\n",
       "        18.77403709,  17.7968198 ,  16.17272009,  14.0250606 ,\n",
       "        11.73253862,   9.97313866,   9.07608042,   8.92168519,\n",
       "         8.99045707,   8.88726173,   8.65938588,   8.49085155,\n",
       "         8.35402668,   8.25823804,   8.2303083 ,   8.22098779,\n",
       "         8.21403858,   8.28993896,   8.44033243,   8.63723757,\n",
       "         8.90348441])"
      ]
     },
     "execution_count": 10,
     "metadata": {},
     "output_type": "execute_result"
    }
   ],
   "source": [
    "ipca.mean_ "
   ]
  },
  {
   "cell_type": "code",
   "execution_count": 13,
   "id": "542071bd",
   "metadata": {},
   "outputs": [],
   "source": [
    "np.save('data/kfold0_PcaExplainedVariance_.npy', ipca.explained_variance_)\n",
    "np.save('data/kfold0_PcaMean.npy', ipca.mean_)\n",
    "np.save('data/kfold0_PcaComponents.npy', ipca.components_)"
   ]
  },
  {
   "cell_type": "code",
   "execution_count": 14,
   "id": "c471e48c",
   "metadata": {},
   "outputs": [
    {
     "data": {
      "text/plain": [
       "array([1.70858690e+05, 3.62624393e+04, 2.79299915e+03, 1.13751374e+03,\n",
       "       9.48780144e+02, 5.17981251e+02, 2.91816937e+02, 2.18061813e+02,\n",
       "       1.40690878e+02, 1.20776839e+02, 7.40887453e+01, 5.57834527e+01,\n",
       "       4.05165564e+01, 2.76996196e+01, 1.97714034e+01, 1.81361902e+01,\n",
       "       1.53609412e+01])"
      ]
     },
     "execution_count": 14,
     "metadata": {},
     "output_type": "execute_result"
    }
   ],
   "source": [
    "ipca.explained_variance_"
   ]
  },
  {
   "cell_type": "code",
   "execution_count": null,
   "id": "50c2d350",
   "metadata": {},
   "outputs": [],
   "source": []
  }
 ],
 "metadata": {
  "kernelspec": {
   "display_name": "Python 3 (ipykernel)",
   "language": "python",
   "name": "python3"
  },
  "language_info": {
   "codemirror_mode": {
    "name": "ipython",
    "version": 3
   },
   "file_extension": ".py",
   "mimetype": "text/x-python",
   "name": "python",
   "nbconvert_exporter": "python",
   "pygments_lexer": "ipython3",
   "version": "3.8.13"
  }
 },
 "nbformat": 4,
 "nbformat_minor": 5
}

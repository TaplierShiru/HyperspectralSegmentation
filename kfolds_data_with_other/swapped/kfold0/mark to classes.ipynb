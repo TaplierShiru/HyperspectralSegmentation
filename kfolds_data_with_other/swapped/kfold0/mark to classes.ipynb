{
 "cells": [
  {
   "cell_type": "code",
   "execution_count": 1,
   "id": "a2436c4a",
   "metadata": {},
   "outputs": [],
   "source": [
    "import numpy as np\n",
    "arr = [0,\n",
    "1,\n",
    "2,\n",
    "3,\n",
    "7,\n",
    "4,\n",
    "5,\n",
    "7,\n",
    "7,\n",
    "7,\n",
    "6,\n",
    "7,\n",
    "7,\n",
    "7,\n",
    "7,\n",
    "5,\n",
    "7,\n",
    "]"
   ]
  },
  {
   "cell_type": "code",
   "execution_count": 2,
   "id": "81a32f88",
   "metadata": {},
   "outputs": [],
   "source": [
    "np.save('data/index2class.npy', np.asarray(arr).reshape(-1))"
   ]
  },
  {
   "cell_type": "code",
   "execution_count": 3,
   "id": "24820afe",
   "metadata": {},
   "outputs": [
    {
     "data": {
      "text/plain": [
       "array([0, 1, 2, 3, 7, 4, 5, 7, 7, 7, 6, 7, 7, 7, 7, 5, 7])"
      ]
     },
     "execution_count": 3,
     "metadata": {},
     "output_type": "execute_result"
    }
   ],
   "source": [
    "np.load('data/index2class.npy')"
   ]
  },
  {
   "cell_type": "code",
   "execution_count": null,
   "id": "e08bd62a",
   "metadata": {},
   "outputs": [],
   "source": []
  }
 ],
 "metadata": {
  "kernelspec": {
   "display_name": "Python 3 (ipykernel)",
   "language": "python",
   "name": "python3"
  },
  "language_info": {
   "codemirror_mode": {
    "name": "ipython",
    "version": 3
   },
   "file_extension": ".py",
   "mimetype": "text/x-python",
   "name": "python",
   "nbconvert_exporter": "python",
   "pygments_lexer": "ipython3",
   "version": "3.8.13"
  }
 },
 "nbformat": 4,
 "nbformat_minor": 5
}

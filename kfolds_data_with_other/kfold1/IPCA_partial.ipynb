{
 "cells": [
  {
   "cell_type": "code",
   "execution_count": 1,
   "id": "060c1cee",
   "metadata": {},
   "outputs": [],
   "source": [
    "import os\n",
    "os.environ['CUDA_VISIBLE_DEVICES'] = \"2\"\n",
    "\n",
    "import sys\n",
    "sys.path.append('/home/rustam/hyperspecter_segmentation/makitorch')"
   ]
  },
  {
   "cell_type": "code",
   "execution_count": 2,
   "id": "ab5d24d7",
   "metadata": {},
   "outputs": [],
   "source": [
    "import numpy as np\n",
    "import torch\n",
    "import matplotlib.pyplot as plt\n",
    "import seaborn as sns\n",
    "\n",
    "from sklearn.decomposition import IncrementalPCA\n",
    "from hsi_dataset_api import HsiDataset\n",
    "\n",
    "from makitorch.dataloaders.HsiDataloader import HsiDataloader\n",
    "\n",
    "from tqdm import tqdm"
   ]
  },
  {
   "cell_type": "code",
   "execution_count": 3,
   "id": "e27e6404",
   "metadata": {},
   "outputs": [],
   "source": [
    "train_indices = np.load('data/kfold1_indx_train.npy')"
   ]
  },
  {
   "cell_type": "code",
   "execution_count": 4,
   "id": "0d17c97c",
   "metadata": {},
   "outputs": [],
   "source": [
    "BATCH_SIZE = 32\n",
    "dataset_hsi_loader = HsiDataloader(\n",
    "    '/raid/rustam/hyperspectral_dataset/new_cropped_hsi_data', \n",
    "    indices=train_indices,\n",
    "    shuffle_data=True,\n",
    ")\n",
    "\n",
    "data_loader = torch.utils.data.DataLoader(dataset_hsi_loader, batch_size=BATCH_SIZE)"
   ]
  },
  {
   "cell_type": "code",
   "execution_count": 5,
   "id": "63178722",
   "metadata": {
    "scrolled": true
   },
   "outputs": [
    {
     "name": "stderr",
     "output_type": "stream",
     "text": [
      "5it [12:49, 153.91s/it]\n"
     ]
    }
   ],
   "source": [
    "ipca = IncrementalPCA(n_components=17, whiten=True, batch_size=BATCH_SIZE)\n",
    "\n",
    "iterator = tqdm(data_loader)\n",
    "\n",
    "for img_batch, _ in iterator:\n",
    "    # (N, C, H, W) --> (N, H, W, C)\n",
    "    img_batch = img_batch.permute(0, 2, 3, 1)\n",
    "    # (N, H, W, C) --> (N * H * W, C)\n",
    "    img_batch = img_batch.reshape(-1, img_batch.shape[-1]).numpy()\n",
    "    ipca.partial_fit(img_batch)\n",
    "iterator.close()"
   ]
  },
  {
   "cell_type": "code",
   "execution_count": 6,
   "id": "0b0e6dd2",
   "metadata": {},
   "outputs": [
    {
     "data": {
      "text/plain": [
       "array([[ 5.94041692e-03,  6.17406620e-03,  6.40885581e-03, ...,\n",
       "         1.32417739e-02,  1.36040696e-02,  1.39409300e-02],\n",
       "       [ 1.56223431e-02,  1.71524272e-02,  1.88355180e-02, ...,\n",
       "         1.03341938e-03,  1.04387183e-03,  1.00132590e-03],\n",
       "       [ 1.71505817e-02,  1.82380252e-02,  1.94289486e-02, ...,\n",
       "         2.55656967e-02,  2.42376295e-02,  2.38274416e-02],\n",
       "       ...,\n",
       "       [-1.98367918e-02, -1.77856696e-02, -1.43135654e-02, ...,\n",
       "        -2.60749195e-02, -2.05887812e-02, -7.49240862e-03],\n",
       "       [-1.31248826e-02, -8.86261477e-03, -1.07007232e-02, ...,\n",
       "        -1.45510934e-02, -1.33852488e-02, -1.69953391e-02],\n",
       "       [ 1.57129308e-05, -1.77587457e-03,  8.79379235e-03, ...,\n",
       "         2.62618767e-02,  2.74461030e-02,  2.58835426e-02]])"
      ]
     },
     "execution_count": 6,
     "metadata": {},
     "output_type": "execute_result"
    }
   ],
   "source": [
    "ipca.components_"
   ]
  },
  {
   "cell_type": "code",
   "execution_count": 7,
   "id": "e2a7dede",
   "metadata": {},
   "outputs": [
    {
     "data": {
      "text/plain": [
       "(17, 237)"
      ]
     },
     "execution_count": 7,
     "metadata": {},
     "output_type": "execute_result"
    }
   ],
   "source": [
    "ipca.components_.shape"
   ]
  },
  {
   "cell_type": "code",
   "execution_count": 8,
   "id": "3e90e0aa",
   "metadata": {},
   "outputs": [
    {
     "data": {
      "text/plain": [
       "array([1.78688144e+05, 2.03257969e+04, 3.02812228e+03, 1.29176412e+03,\n",
       "       6.26608577e+02, 4.18992875e+02, 2.46295932e+02, 2.07298956e+02,\n",
       "       1.30819276e+02, 1.09051722e+02, 5.54460845e+01, 4.02725821e+01,\n",
       "       3.77948673e+01, 1.99517033e+01, 1.84420540e+01, 1.75538161e+01,\n",
       "       1.28157546e+01])"
      ]
     },
     "execution_count": 8,
     "metadata": {},
     "output_type": "execute_result"
    }
   ],
   "source": [
    "ipca.explained_variance_"
   ]
  },
  {
   "cell_type": "code",
   "execution_count": 9,
   "id": "f3f8dcea",
   "metadata": {
    "scrolled": true
   },
   "outputs": [
    {
     "data": {
      "text/plain": [
       "array([  4.40140152,   4.61499274,   4.83650158,   5.08789823,\n",
       "         5.34545559,   5.57671649,   5.85836698,   6.10160323,\n",
       "         6.28024819,   6.46281886,   6.69092028,   6.90837365,\n",
       "         7.11085365,   7.25810611,   7.39967324,   7.52722532,\n",
       "         7.67951983,   7.91812737,   8.20292996,   8.49335202,\n",
       "         8.77115749,   8.88534666,   8.85517775,   8.87340979,\n",
       "         9.12055004,   9.52306536,   9.94490379,  10.33200861,\n",
       "        10.62344419,  10.81687785,  11.00720665,  11.29070951,\n",
       "        11.70180716,  12.20482818,  12.75307253,  13.24732304,\n",
       "        13.71012652,  14.35697174,  15.29704058,  16.33505564,\n",
       "        17.39231452,  18.5366588 ,  19.77446735,  20.95085063,\n",
       "        22.01079377,  22.87835147,  23.45305058,  23.82797116,\n",
       "        24.19188227,  24.51998402,  24.87326586,  25.41701082,\n",
       "        26.10947229,  26.66882927,  26.98380809,  27.09423811,\n",
       "        27.02688643,  26.68138689,  26.1201736 ,  25.55504064,\n",
       "        25.10116324,  24.90703721,  24.85618244,  24.85629538,\n",
       "        24.92406872,  25.08066802,  25.10531565,  24.7301083 ,\n",
       "        23.84443704,  23.1030319 ,  22.76109004,  22.7005648 ,\n",
       "        22.84652867,  23.25182608,  23.81074268,  24.36287753,\n",
       "        24.78274484,  24.94039927,  24.8520082 ,  24.49524777,\n",
       "        23.98506347,  23.55043965,  23.2595111 ,  23.02710128,\n",
       "        22.90448008,  22.94754776,  23.06077854,  23.28341338,\n",
       "        23.60710681,  23.9163259 ,  24.08863004,  24.08743936,\n",
       "        23.95248135,  23.60378861,  23.02007343,  22.49640473,\n",
       "        22.1406249 ,  21.74470586,  21.38395644,  21.42218261,\n",
       "        21.74682027,  22.01039217,  22.22447133,  22.38730639,\n",
       "        22.49070272,  22.48102299,  22.40756932,  22.34206036,\n",
       "        22.22638097,  22.07685717,  21.91307897,  21.67848028,\n",
       "        21.60296407,  22.0538921 ,  23.20867701,  24.97456143,\n",
       "        27.31281967,  30.0312028 ,  33.27790754,  37.10679501,\n",
       "        41.48060318,  46.18088194,  51.04422568,  55.1804703 ,\n",
       "        57.43095514,  57.45956263,  57.82301653,  60.34339538,\n",
       "        63.7013503 ,  66.91865611,  71.27248821,  77.55385513,\n",
       "        85.9462438 ,  95.16375417, 103.76126795, 111.39476902,\n",
       "       118.65800643, 125.13867227, 129.95583969, 132.7482998 ,\n",
       "       133.79980821, 133.08209489, 128.71603499, 116.97670896,\n",
       "        97.92992642,  82.2479331 ,  79.85672706,  88.91596259,\n",
       "       100.91557905, 109.37463413, 113.13400202, 113.99791137,\n",
       "       113.73638825, 112.6798285 , 111.12453355, 109.12564335,\n",
       "       106.54417968, 103.37733309, 100.32672114,  98.00387571,\n",
       "        95.96769847,  93.63072539,  91.01645518,  88.39765539,\n",
       "        85.72643787,  82.53800487,  78.18032315,  72.4132116 ,\n",
       "        65.74871811,  60.01208152,  56.815527  ,  55.74681224,\n",
       "        55.46191426,  55.67522913,  56.04489123,  56.26481833,\n",
       "        56.65199334,  57.64296986,  59.01998281,  60.14160609,\n",
       "        60.68919154,  60.61903758,  59.900941  ,  58.39165561,\n",
       "        56.14875272,  53.71556657,  51.6358819 ,  50.15027321,\n",
       "        49.10285135,  48.03330629,  46.62299261,  45.08691483,\n",
       "        43.98122743,  43.38011807,  42.85058796,  42.22777141,\n",
       "        41.60111945,  40.96537045,  40.26779374,  39.62894093,\n",
       "        39.00985203,  38.19352498,  36.87008066,  34.84896102,\n",
       "        32.18051999,  29.49784666,  27.5532829 ,  26.84361954,\n",
       "        26.63283039,  25.88225902,  24.59071089,  23.35729584,\n",
       "        22.34405527,  21.61463237,  21.32533385,  21.26075139,\n",
       "        20.83976837,  19.70157333,  17.81793402,  15.45152561,\n",
       "        12.96219212,  11.11214304,  10.14504604,   9.95494099,\n",
       "         9.97226902,   9.82951842,   9.59997696,   9.42639606,\n",
       "         9.26825064,   9.14937468,   9.11647691,   9.10200025,\n",
       "         9.09324552,   9.17227451,   9.35079651,   9.58424038,\n",
       "         9.87206108])"
      ]
     },
     "execution_count": 9,
     "metadata": {},
     "output_type": "execute_result"
    }
   ],
   "source": [
    "ipca.mean_ "
   ]
  },
  {
   "cell_type": "code",
   "execution_count": 10,
   "id": "bd20b7ca",
   "metadata": {},
   "outputs": [],
   "source": [
    "np.save('data/kfold1_PcaExplainedVariance_.npy', ipca.explained_variance_)\n",
    "np.save('data/kfold1_PcaMean.npy', ipca.mean_)\n",
    "np.save('data/kfold1_PcaComponents.npy', ipca.components_)"
   ]
  },
  {
   "cell_type": "code",
   "execution_count": 11,
   "id": "992110ce",
   "metadata": {},
   "outputs": [
    {
     "data": {
      "text/plain": [
       "array([1.78688144e+05, 2.03257969e+04, 3.02812228e+03, 1.29176412e+03,\n",
       "       6.26608577e+02, 4.18992875e+02, 2.46295932e+02, 2.07298956e+02,\n",
       "       1.30819276e+02, 1.09051722e+02, 5.54460845e+01, 4.02725821e+01,\n",
       "       3.77948673e+01, 1.99517033e+01, 1.84420540e+01, 1.75538161e+01,\n",
       "       1.28157546e+01])"
      ]
     },
     "execution_count": 11,
     "metadata": {},
     "output_type": "execute_result"
    }
   ],
   "source": [
    "ipca.explained_variance_"
   ]
  },
  {
   "cell_type": "code",
   "execution_count": null,
   "id": "81ac44e5",
   "metadata": {},
   "outputs": [],
   "source": []
  }
 ],
 "metadata": {
  "kernelspec": {
   "display_name": "Python 3",
   "language": "python",
   "name": "python3"
  },
  "language_info": {
   "codemirror_mode": {
    "name": "ipython",
    "version": 3
   },
   "file_extension": ".py",
   "mimetype": "text/x-python",
   "name": "python",
   "nbconvert_exporter": "python",
   "pygments_lexer": "ipython3",
   "version": "3.8.8"
  }
 },
 "nbformat": 4,
 "nbformat_minor": 5
}

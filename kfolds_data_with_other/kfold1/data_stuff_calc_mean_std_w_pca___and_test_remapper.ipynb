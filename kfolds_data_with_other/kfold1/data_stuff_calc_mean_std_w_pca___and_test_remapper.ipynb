{
 "cells": [
  {
   "cell_type": "code",
   "execution_count": 1,
   "id": "c39fc876",
   "metadata": {},
   "outputs": [],
   "source": [
    "import os\n",
    "os.environ['CUDA_VISIBLE_DEVICES'] = \"э\"\n",
    "\n",
    "import sys\n",
    "sys.path.append('/home/rustam/hyperspecter_segmentation/makitorch')\n",
    "sys.path.append('/home/rustam/hyperspecter_segmentation/')\n",
    "\n",
    "import numpy as np\n",
    "import matplotlib.pyplot as plt\n",
    "import seaborn as sns\n",
    "from scipy.ndimage import gaussian_filter\n",
    "import cv2\n",
    "from hsi_dataset_api import HsiDataset"
   ]
  },
  {
   "cell_type": "code",
   "execution_count": 2,
   "id": "3862871b",
   "metadata": {},
   "outputs": [],
   "source": [
    "pca_explained_variance = np.load(\"data/kfold1_PcaExplainedVariance_.npy\")\n",
    "pca_mean = np.load('data/kfold1_PcaMean.npy')\n",
    "pca_components = np.load('data/kfold1_PcaComponents.npy')"
   ]
  },
  {
   "cell_type": "code",
   "execution_count": 3,
   "id": "b064fb3c",
   "metadata": {},
   "outputs": [],
   "source": [
    "def pca_transformation(x):\n",
    "    x_t = np.reshape(x, (x.shape[0], -1)) # (C, H, W) -> (C, H * W)\n",
    "    x_t = np.swapaxes(x_t, 0, 1) # (C, H * W) -> (H * W, C)\n",
    "    x_t = x_t - pca_mean\n",
    "    x_t = np.dot(x_t, pca_components.T) / np.sqrt(pca_explained_variance)\n",
    "    return np.reshape(x_t, (x.shape[1], x.shape[2], pca_components.shape[0])).astype(np.float32) # (H, W, N)"
   ]
  },
  {
   "cell_type": "code",
   "execution_count": 4,
   "id": "a2b88000",
   "metadata": {},
   "outputs": [],
   "source": [
    "test_indices = np.load('data/kfold1_indx_test.npy')\n",
    "train_indices = np.load('data/kfold1_indx_train.npy')\n",
    "path = '/raid/rustam/hyperspectral_dataset/new_cropped_hsi_data/'"
   ]
  },
  {
   "cell_type": "code",
   "execution_count": 5,
   "id": "45a3f6ed",
   "metadata": {},
   "outputs": [],
   "source": [
    "dataset = HsiDataset(path)"
   ]
  },
  {
   "cell_type": "code",
   "execution_count": 6,
   "id": "5ec22012",
   "metadata": {},
   "outputs": [],
   "source": [
    "images = []\n",
    "masks = []\n",
    "pca_list = []\n",
    "\n",
    "\n",
    "for idx, data_point in enumerate(dataset.data_iterator(opened=True, shuffle=False)):\n",
    "    if train_indices is not None and idx not in train_indices:\n",
    "        continue\n",
    "    images.append(data_point.hsi)\n",
    "    masks.append(data_point.mask)\n",
    "    pca_list.append(pca_transformation(data_point.hsi))"
   ]
  },
  {
   "cell_type": "code",
   "execution_count": 7,
   "id": "f4c3a793",
   "metadata": {},
   "outputs": [],
   "source": [
    "import json\n",
    "\n",
    "pca_mean_std = {\n",
    "    \"means\": np.asarray(pca_list, dtype=np.float32).mean(axis=(0, 1, 2)).tolist(),\n",
    "    \"stds\": np.asarray(pca_list, dtype=np.float32).std(axis=(0, 1, 2)).tolist()\n",
    "}"
   ]
  },
  {
   "cell_type": "code",
   "execution_count": 8,
   "id": "49f16275",
   "metadata": {},
   "outputs": [],
   "source": [
    "with open('data/data_standartization_params_kfold1.json', 'w') as fp:\n",
    "    json.dump(pca_mean_std, fp)"
   ]
  },
  {
   "cell_type": "code",
   "execution_count": null,
   "id": "ffb19012",
   "metadata": {},
   "outputs": [],
   "source": []
  },
  {
   "cell_type": "markdown",
   "id": "5e357ddb",
   "metadata": {},
   "source": [
    "## Test remapper"
   ]
  },
  {
   "cell_type": "code",
   "execution_count": 9,
   "id": "40faf8cf",
   "metadata": {},
   "outputs": [],
   "source": [
    "from typing import Tuple\n",
    "import numpy as np\n",
    "\n",
    "class DatasetRemapper:\n",
    "\n",
    "    def __init__(self, old2new: np.ndarray):\n",
    "        self.old2new = old2new\n",
    "\n",
    "    def __call__(self, image: np.ndarray, mask: np.ndarray) -> Tuple[np.ndarray, np.ndarray]:\n",
    "        new_mask = mask.copy()\n",
    "        return image, self.__remap_mask(new_mask, mask)\n",
    "\n",
    "    def __remap_mask(self, new_mask: np.ndarray, mask: np.ndarray):\n",
    "        for old_val, new_val in enumerate(self.old2new):\n",
    "            new_mask[mask == old_val] = new_val\n",
    "        return new_mask"
   ]
  },
  {
   "cell_type": "code",
   "execution_count": 10,
   "id": "31242de8",
   "metadata": {},
   "outputs": [],
   "source": [
    "dataset_remapper = DatasetRemapper(np.load('data/index2class.npy'))"
   ]
  },
  {
   "cell_type": "code",
   "execution_count": 38,
   "id": "14b2311c",
   "metadata": {},
   "outputs": [],
   "source": [
    "index = 98"
   ]
  },
  {
   "cell_type": "code",
   "execution_count": 39,
   "id": "015b61be",
   "metadata": {},
   "outputs": [],
   "source": [
    "_, new_mask = dataset_remapper(None, masks[index])"
   ]
  },
  {
   "cell_type": "code",
   "execution_count": 40,
   "id": "0584e96a",
   "metadata": {},
   "outputs": [],
   "source": [
    "import matplotlib.pyplot as plt\n",
    "import seaborn as sns"
   ]
  },
  {
   "cell_type": "code",
   "execution_count": 41,
   "id": "6c2c7250",
   "metadata": {},
   "outputs": [
    {
     "data": {
      "text/plain": [
       "<AxesSubplot:>"
      ]
     },
     "execution_count": 41,
     "metadata": {},
     "output_type": "execute_result"
    },
    {
     "data": {
      "image/png": "[encoded data removed]",
      "text/plain": [
       "<Figure size 432x288 with 2 Axes>"
      ]
     },
     "metadata": {
      "needs_background": "light"
     },
     "output_type": "display_data"
    }
   ],
   "source": [
    "sns.heatmap(masks[index][..., 0], vmax=17)"
   ]
  },
  {
   "cell_type": "code",
   "execution_count": 42,
   "id": "b3050cc2",
   "metadata": {},
   "outputs": [
    {
     "data": {
      "text/plain": [
       "<AxesSubplot:>"
      ]
     },
     "execution_count": 42,
     "metadata": {},
     "output_type": "execute_result"
    },
    {
     "data": {
      "image/png": "[encoded data removed]",
      "text/plain": [
       "<Figure size 432x288 with 2 Axes>"
      ]
     },
     "metadata": {
      "needs_background": "light"
     },
     "output_type": "display_data"
    }
   ],
   "source": [
    "sns.heatmap(new_mask[..., 0], vmax=8)"
   ]
  },
  {
   "cell_type": "code",
   "execution_count": null,
   "id": "4b2392c1",
   "metadata": {},
   "outputs": [],
   "source": []
  },
  {
   "cell_type": "code",
   "execution_count": null,
   "id": "0d60b62b",
   "metadata": {},
   "outputs": [],
   "source": []
  }
 ],
 "metadata": {
  "kernelspec": {
   "display_name": "Python 3",
   "language": "python",
   "name": "python3"
  },
  "language_info": {
   "codemirror_mode": {
    "name": "ipython",
    "version": 3
   },
   "file_extension": ".py",
   "mimetype": "text/x-python",
   "name": "python",
   "nbconvert_exporter": "python",
   "pygments_lexer": "ipython3",
   "version": "3.8.8"
  }
 },
 "nbformat": 4,
 "nbformat_minor": 5
}

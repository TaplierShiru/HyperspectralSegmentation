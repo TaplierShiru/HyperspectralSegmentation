{
 "cells": [
  {
   "cell_type": "code",
   "execution_count": 1,
   "id": "65233249",
   "metadata": {},
   "outputs": [],
   "source": [
    "import os\n",
    "os.environ['CUDA_VISIBLE_DEVICES'] = \"э\"\n",
    "\n",
    "import sys\n",
    "sys.path.append('/home/rustam/hyperspecter_segmentation/makitorch')\n",
    "sys.path.append('/home/rustam/hyperspecter_segmentation/')\n",
    "\n",
    "import numpy as np\n",
    "import matplotlib.pyplot as plt\n",
    "import seaborn as sns\n",
    "from scipy.ndimage import gaussian_filter\n",
    "import cv2\n",
    "from hsi_dataset_api import HsiDataset"
   ]
  },
  {
   "cell_type": "code",
   "execution_count": 2,
   "id": "f012f44e",
   "metadata": {},
   "outputs": [],
   "source": [
    "pca_explained_variance = np.load(\"data/kfold2_PcaExplainedVariance_.npy\")\n",
    "pca_mean = np.load('data/kfold2_PcaMean.npy')\n",
    "pca_components = np.load('data/kfold2_PcaComponents.npy')"
   ]
  },
  {
   "cell_type": "code",
   "execution_count": 3,
   "id": "9de8658f",
   "metadata": {},
   "outputs": [],
   "source": [
    "def pca_transformation(x):\n",
    "    x_t = np.reshape(x, (x.shape[0], -1)) # (C, H, W) -> (C, H * W)\n",
    "    x_t = np.swapaxes(x_t, 0, 1) # (C, H * W) -> (H * W, C)\n",
    "    x_t = x_t - pca_mean\n",
    "    x_t = np.dot(x_t, pca_components.T) / np.sqrt(pca_explained_variance)\n",
    "    return np.reshape(x_t, (x.shape[1], x.shape[2], pca_components.shape[0])).astype(np.float32) # (H, W, N)"
   ]
  },
  {
   "cell_type": "code",
   "execution_count": 4,
   "id": "cd887d3a",
   "metadata": {},
   "outputs": [],
   "source": [
    "test_indices = np.load('data/kfold2_indx_test.npy')\n",
    "train_indices = np.load('data/kfold2_indx_train.npy')\n",
    "path = '/raid/rustam/hyperspectral_dataset/new_cropped_hsi_data/'"
   ]
  },
  {
   "cell_type": "code",
   "execution_count": 5,
   "id": "6be31431",
   "metadata": {},
   "outputs": [],
   "source": [
    "dataset = HsiDataset(path)"
   ]
  },
  {
   "cell_type": "code",
   "execution_count": 6,
   "id": "f6a342ad",
   "metadata": {},
   "outputs": [],
   "source": [
    "images = []\n",
    "masks = []\n",
    "pca_list = []\n",
    "\n",
    "\n",
    "for idx, data_point in enumerate(dataset.data_iterator(opened=True, shuffle=False)):\n",
    "    if train_indices is not None and idx not in train_indices:\n",
    "        continue\n",
    "    images.append(data_point.hsi)\n",
    "    masks.append(data_point.mask)\n",
    "    pca_list.append(pca_transformation(data_point.hsi))"
   ]
  },
  {
   "cell_type": "code",
   "execution_count": 7,
   "id": "c2bc59af",
   "metadata": {},
   "outputs": [],
   "source": [
    "import json\n",
    "\n",
    "pca_mean_std = {\n",
    "    \"means\": np.asarray(pca_list, dtype=np.float32).mean(axis=(0, 1, 2)).tolist(),\n",
    "    \"stds\": np.asarray(pca_list, dtype=np.float32).std(axis=(0, 1, 2)).tolist()\n",
    "}"
   ]
  },
  {
   "cell_type": "code",
   "execution_count": 9,
   "id": "7ecbb841",
   "metadata": {},
   "outputs": [],
   "source": [
    "with open('data/data_standartization_params_kfold2.json', 'w') as fp:\n",
    "    json.dump(pca_mean_std, fp)"
   ]
  },
  {
   "cell_type": "code",
   "execution_count": null,
   "id": "0a48a58a",
   "metadata": {},
   "outputs": [],
   "source": []
  },
  {
   "cell_type": "markdown",
   "id": "7feb9d40",
   "metadata": {},
   "source": [
    "## Test remapper"
   ]
  },
  {
   "cell_type": "code",
   "execution_count": null,
   "id": "dc011d8a",
   "metadata": {},
   "outputs": [],
   "source": [
    "from typing import Tuple\n",
    "import numpy as np\n",
    "\n",
    "class DatasetRemapper:\n",
    "\n",
    "    def __init__(self, old2new: np.ndarray):\n",
    "        self.old2new = old2new\n",
    "\n",
    "    def __call__(self, image: np.ndarray, mask: np.ndarray) -> Tuple[np.ndarray, np.ndarray]:\n",
    "        new_mask = mask.copy()\n",
    "        return image, self.__remap_mask(new_mask, mask)\n",
    "\n",
    "    def __remap_mask(self, new_mask: np.ndarray, mask: np.ndarray):\n",
    "        for old_val, new_val in enumerate(self.old2new):\n",
    "            new_mask[mask == old_val] = new_val\n",
    "        return new_mask"
   ]
  },
  {
   "cell_type": "code",
   "execution_count": null,
   "id": "9c019517",
   "metadata": {},
   "outputs": [],
   "source": [
    "dataset_remapper = DatasetRemapper(np.load('data/index2class.npy'))"
   ]
  },
  {
   "cell_type": "code",
   "execution_count": null,
   "id": "8bac2e6f",
   "metadata": {},
   "outputs": [],
   "source": [
    "index = 98"
   ]
  },
  {
   "cell_type": "code",
   "execution_count": null,
   "id": "fefc5659",
   "metadata": {},
   "outputs": [],
   "source": [
    "_, new_mask = dataset_remapper(None, masks[index])"
   ]
  },
  {
   "cell_type": "code",
   "execution_count": null,
   "id": "2f0060ff",
   "metadata": {},
   "outputs": [],
   "source": [
    "import matplotlib.pyplot as plt\n",
    "import seaborn as sns"
   ]
  },
  {
   "cell_type": "code",
   "execution_count": null,
   "id": "09f7e534",
   "metadata": {},
   "outputs": [],
   "source": [
    "sns.heatmap(masks[index][..., 0], vmax=17)"
   ]
  },
  {
   "cell_type": "code",
   "execution_count": null,
   "id": "3e5fd452",
   "metadata": {},
   "outputs": [],
   "source": [
    "sns.heatmap(new_mask[..., 0], vmax=8)"
   ]
  },
  {
   "cell_type": "code",
   "execution_count": null,
   "id": "f4f88590",
   "metadata": {},
   "outputs": [],
   "source": []
  },
  {
   "cell_type": "code",
   "execution_count": null,
   "id": "521b158e",
   "metadata": {},
   "outputs": [],
   "source": []
  }
 ],
 "metadata": {
  "kernelspec": {
   "display_name": "Python 3 (ipykernel)",
   "language": "python",
   "name": "python3"
  },
  "language_info": {
   "codemirror_mode": {
    "name": "ipython",
    "version": 3
   },
   "file_extension": ".py",
   "mimetype": "text/x-python",
   "name": "python",
   "nbconvert_exporter": "python",
   "pygments_lexer": "ipython3",
   "version": "3.8.13"
  }
 },
 "nbformat": 4,
 "nbformat_minor": 5
}

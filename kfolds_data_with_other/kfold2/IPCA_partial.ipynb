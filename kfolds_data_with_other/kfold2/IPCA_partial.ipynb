{
 "cells": [
  {
   "cell_type": "code",
   "execution_count": 1,
   "id": "694d7ec2",
   "metadata": {},
   "outputs": [],
   "source": [
    "import os\n",
    "os.environ['CUDA_VISIBLE_DEVICES'] = \"2\"\n",
    "\n",
    "import sys\n",
    "sys.path.append('/home/rustam/hyperspecter_segmentation/makitorch')"
   ]
  },
  {
   "cell_type": "code",
   "execution_count": 2,
   "id": "8d7e178f",
   "metadata": {},
   "outputs": [
    {
     "name": "stderr",
     "output_type": "stream",
     "text": [
      "/opt/conda/lib/python3.8/site-packages/tqdm/auto.py:22: TqdmWarning: IProgress not found. Please update jupyter and ipywidgets. See https://ipywidgets.readthedocs.io/en/stable/user_install.html\n",
      "  from .autonotebook import tqdm as notebook_tqdm\n"
     ]
    }
   ],
   "source": [
    "import numpy as np\n",
    "import torch\n",
    "import matplotlib.pyplot as plt\n",
    "import seaborn as sns\n",
    "\n",
    "from sklearn.decomposition import IncrementalPCA\n",
    "from hsi_dataset_api import HsiDataset\n",
    "\n",
    "from makitorch.dataloaders.HsiDataloader import HsiDataloader\n",
    "\n",
    "from tqdm import tqdm"
   ]
  },
  {
   "cell_type": "code",
   "execution_count": 3,
   "id": "210b3b95",
   "metadata": {},
   "outputs": [],
   "source": [
    "train_indices = np.load('data/kfold2_indx_train.npy')"
   ]
  },
  {
   "cell_type": "code",
   "execution_count": 4,
   "id": "856e020b",
   "metadata": {},
   "outputs": [],
   "source": [
    "BATCH_SIZE = 32\n",
    "dataset_hsi_loader = HsiDataloader(\n",
    "    '/raid/rustam/hyperspectral_dataset/new_cropped_hsi_data', \n",
    "    indices=train_indices,\n",
    "    shuffle_data=True,\n",
    ")\n",
    "\n",
    "data_loader = torch.utils.data.DataLoader(dataset_hsi_loader, batch_size=BATCH_SIZE)"
   ]
  },
  {
   "cell_type": "code",
   "execution_count": 5,
   "id": "c414ffd7",
   "metadata": {
    "scrolled": true
   },
   "outputs": [
    {
     "name": "stderr",
     "output_type": "stream",
     "text": [
      "8it [19:01, 142.71s/it]\n"
     ]
    }
   ],
   "source": [
    "ipca = IncrementalPCA(n_components=17, whiten=True, batch_size=BATCH_SIZE)\n",
    "\n",
    "iterator = tqdm(data_loader)\n",
    "\n",
    "for img_batch, _ in iterator:\n",
    "    # (N, C, H, W) --> (N, H, W, C)\n",
    "    img_batch = img_batch.permute(0, 2, 3, 1)\n",
    "    # (N, H, W, C) --> (N * H * W, C)\n",
    "    img_batch = img_batch.reshape(-1, img_batch.shape[-1]).numpy()\n",
    "    ipca.partial_fit(img_batch)\n",
    "iterator.close()"
   ]
  },
  {
   "cell_type": "code",
   "execution_count": 6,
   "id": "c2a36d76",
   "metadata": {},
   "outputs": [
    {
     "data": {
      "text/plain": [
       "array([[ 0.00649798,  0.00681769,  0.00713788, ...,  0.01328596,\n",
       "         0.01358245,  0.0139107 ],\n",
       "       [ 0.01707642,  0.01866979,  0.02000987, ...,  0.00201532,\n",
       "         0.00191822,  0.00179395],\n",
       "       [-0.02451369, -0.02571161, -0.02681541, ..., -0.03665968,\n",
       "        -0.03585593, -0.03539749],\n",
       "       ...,\n",
       "       [-0.03900384, -0.03589407, -0.03719444, ..., -0.03182553,\n",
       "        -0.03110521, -0.03910105],\n",
       "       [-0.06491089, -0.06438104, -0.05609436, ..., -0.07960148,\n",
       "        -0.07694496, -0.07098033],\n",
       "       [-0.07618136, -0.07929219, -0.07782593, ...,  0.06082513,\n",
       "         0.06507892,  0.06732339]])"
      ]
     },
     "execution_count": 6,
     "metadata": {},
     "output_type": "execute_result"
    }
   ],
   "source": [
    "ipca.components_"
   ]
  },
  {
   "cell_type": "code",
   "execution_count": 7,
   "id": "d8df671b",
   "metadata": {},
   "outputs": [
    {
     "data": {
      "text/plain": [
       "(17, 237)"
      ]
     },
     "execution_count": 7,
     "metadata": {},
     "output_type": "execute_result"
    }
   ],
   "source": [
    "ipca.components_.shape"
   ]
  },
  {
   "cell_type": "code",
   "execution_count": 8,
   "id": "1ba67c40",
   "metadata": {},
   "outputs": [
    {
     "data": {
      "text/plain": [
       "array([1.75994827e+05, 3.62342503e+04, 2.79567227e+03, 1.16420492e+03,\n",
       "       1.02289680e+03, 5.80574545e+02, 3.11559775e+02, 2.32630066e+02,\n",
       "       1.45611420e+02, 1.33962770e+02, 7.53302806e+01, 5.59754745e+01,\n",
       "       4.18245358e+01, 3.07413423e+01, 2.04476425e+01, 1.99064140e+01,\n",
       "       1.53271866e+01])"
      ]
     },
     "execution_count": 8,
     "metadata": {},
     "output_type": "execute_result"
    }
   ],
   "source": [
    "ipca.explained_variance_"
   ]
  },
  {
   "cell_type": "code",
   "execution_count": 9,
   "id": "d923399b",
   "metadata": {
    "scrolled": true
   },
   "outputs": [
    {
     "data": {
      "text/plain": [
       "array([  4.68445041,   4.97031589,   5.22100094,   5.54506283,\n",
       "         5.87356837,   6.17064818,   6.51955595,   6.86993873,\n",
       "         7.08577177,   7.30839886,   7.6027888 ,   7.90566115,\n",
       "         8.17963303,   8.40403481,   8.58669813,   8.72284568,\n",
       "         8.90111696,   9.20426264,   9.58032472,   9.98355872,\n",
       "        10.38135656,  10.59422172,  10.55552053,  10.44540851,\n",
       "        10.73385832,  11.28701124,  11.85443493,  12.36965803,\n",
       "        12.7818202 ,  13.008285  ,  13.16137717,  13.44391795,\n",
       "        13.90007997,  14.44722137,  15.03731379,  15.58026232,\n",
       "        15.96600004,  16.4527298 ,  17.30177767,  18.36692386,\n",
       "        19.40377608,  20.46634065,  21.71249159,  23.0054138 ,\n",
       "        24.08398882,  24.99873123,  25.64818425,  25.99397422,\n",
       "        26.34668825,  26.67972883,  27.02177555,  27.57796936,\n",
       "        28.34276596,  29.07384542,  29.56135678,  29.77444012,\n",
       "        29.80660741,  29.57799883,  29.10823639,  28.57649874,\n",
       "        28.1632294 ,  28.11108324,  28.29322562,  28.45799335,\n",
       "        28.63149726,  28.95618018,  29.23913979,  29.01974408,\n",
       "        28.04198398,  27.05263938,  26.61403993,  26.49775777,\n",
       "        26.63316384,  27.07693615,  27.74016169,  28.48214428,\n",
       "        29.11333559,  29.43856274,  29.44295275,  29.08583384,\n",
       "        28.47623166,  27.91098635,  27.53335882,  27.2358874 ,\n",
       "        27.05254925,  27.051361  ,  27.14409292,  27.39231218,\n",
       "        27.77973879,  28.19651062,  28.465119  ,  28.51803413,\n",
       "        28.42124824,  28.05483192,  27.34032801,  26.60543198,\n",
       "        26.12408286,  25.60001467,  25.0097496 ,  24.92076341,\n",
       "        25.41211799,  25.87114282,  26.16220306,  26.37110552,\n",
       "        26.49815933,  26.43378284,  26.26656169,  26.0735105 ,\n",
       "        25.78502625,  25.42291885,  25.06991626,  24.59770521,\n",
       "        24.09289285,  24.28422885,  25.44620477,  27.25895365,\n",
       "        29.58764879,  32.2740617 ,  35.25042172,  38.76886239,\n",
       "        42.82781281,  47.22191676,  51.69680734,  55.61895921,\n",
       "        57.8597516 ,  57.45275136,  56.65926743,  58.50557124,\n",
       "        61.57058601,  64.19278758,  67.58798911,  72.76963521,\n",
       "        80.12965113,  88.48117688,  96.00341771, 102.56747277,\n",
       "       108.90210951, 114.63325646, 118.90234784, 121.3378402 ,\n",
       "       122.13217884, 121.47608315, 118.24958835, 108.93870097,\n",
       "        90.54322083,  73.40672445,  69.90536289,  78.5307785 ,\n",
       "        90.42148597,  98.74897434, 102.31564828, 103.20199488,\n",
       "       102.94099253, 102.00081238, 100.66227261,  98.95699887,\n",
       "        96.68506585,  93.79187442,  91.00326082,  88.87921766,\n",
       "        87.04121233,  84.99938043,  82.72191091,  80.30186891,\n",
       "        77.86624425,  75.08842807,  71.37648921,  66.34920802,\n",
       "        60.25530377,  54.79119146,  51.70806591,  50.71130605,\n",
       "        50.38991489,  50.55704107,  50.93218316,  51.05539697,\n",
       "        51.2833332 ,  52.12583817,  53.36097034,  54.38917831,\n",
       "        54.88982824,  54.83398727,  54.20643009,  52.87197556,\n",
       "        50.85395832,  48.58474157,  46.57066852,  45.15719218,\n",
       "        44.25305289,  43.34058282,  42.07425413,  40.63297302,\n",
       "        39.56634935,  39.01252635,  38.601234  ,  38.05644263,\n",
       "        37.50098657,  36.92601323,  36.30183794,  35.76499703,\n",
       "        35.22515884,  34.5311368 ,  33.4590783 ,  31.76398171,\n",
       "        29.41911955,  26.91161085,  25.01274974,  24.32752094,\n",
       "        24.24880252,  23.66281835,  22.48939021,  21.34006239,\n",
       "        20.40103817,  19.68177288,  19.36344374,  19.33575027,\n",
       "        19.00722044,  18.06244678,  16.4713942 ,  14.34169578,\n",
       "        12.01443346,  10.17701482,   9.20692257,   9.0306174 ,\n",
       "         9.10631914,   9.01707999,   8.78868639,   8.60615755,\n",
       "         8.46106189,   8.35960042,   8.32828593,   8.31271079,\n",
       "         8.29459   ,   8.36403   ,   8.50882031,   8.69193712,\n",
       "         8.94278624])"
      ]
     },
     "execution_count": 9,
     "metadata": {},
     "output_type": "execute_result"
    }
   ],
   "source": [
    "ipca.mean_ "
   ]
  },
  {
   "cell_type": "code",
   "execution_count": 12,
   "id": "13af6e74",
   "metadata": {},
   "outputs": [],
   "source": [
    "np.save('data/kfold2_PcaExplainedVariance_.npy', ipca.explained_variance_)\n",
    "np.save('data/kfold2_PcaMean.npy', ipca.mean_)\n",
    "np.save('data/kfold2_PcaComponents.npy', ipca.components_)"
   ]
  },
  {
   "cell_type": "code",
   "execution_count": 13,
   "id": "89ee00db",
   "metadata": {},
   "outputs": [
    {
     "data": {
      "text/plain": [
       "array([1.75994827e+05, 3.62342503e+04, 2.79567227e+03, 1.16420492e+03,\n",
       "       1.02289680e+03, 5.80574545e+02, 3.11559775e+02, 2.32630066e+02,\n",
       "       1.45611420e+02, 1.33962770e+02, 7.53302806e+01, 5.59754745e+01,\n",
       "       4.18245358e+01, 3.07413423e+01, 2.04476425e+01, 1.99064140e+01,\n",
       "       1.53271866e+01])"
      ]
     },
     "execution_count": 13,
     "metadata": {},
     "output_type": "execute_result"
    }
   ],
   "source": [
    "ipca.explained_variance_"
   ]
  },
  {
   "cell_type": "code",
   "execution_count": null,
   "id": "da35b5d8",
   "metadata": {},
   "outputs": [],
   "source": []
  }
 ],
 "metadata": {
  "kernelspec": {
   "display_name": "Python 3 (ipykernel)",
   "language": "python",
   "name": "python3"
  },
  "language_info": {
   "codemirror_mode": {
    "name": "ipython",
    "version": 3
   },
   "file_extension": ".py",
   "mimetype": "text/x-python",
   "name": "python",
   "nbconvert_exporter": "python",
   "pygments_lexer": "ipython3",
   "version": "3.8.13"
  }
 },
 "nbformat": 4,
 "nbformat_minor": 5
}

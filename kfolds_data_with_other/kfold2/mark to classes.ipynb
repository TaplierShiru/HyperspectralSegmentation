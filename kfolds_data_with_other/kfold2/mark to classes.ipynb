{
 "cells": [
  {
   "cell_type": "code",
   "execution_count": 1,
   "id": "c34617a6",
   "metadata": {},
   "outputs": [],
   "source": [
    "import numpy as np\n",
    "arr = [0,\n",
    "1,\n",
    "2,\n",
    "3,\n",
    "4,\n",
    "7,\n",
    "7,\n",
    "5,\n",
    "7,\n",
    "7,\n",
    "7,\n",
    "7,\n",
    "7,\n",
    "6,\n",
    "7,\n",
    "7,\n",
    "7,\n",
    "]"
   ]
  },
  {
   "cell_type": "code",
   "execution_count": 2,
   "id": "c98e5ae0",
   "metadata": {},
   "outputs": [],
   "source": [
    "np.save('data/index2class.npy', np.asarray(arr).reshape(-1))"
   ]
  },
  {
   "cell_type": "code",
   "execution_count": 3,
   "id": "6da5f766",
   "metadata": {},
   "outputs": [
    {
     "data": {
      "text/plain": [
       "array([0, 1, 2, 3, 4, 7, 7, 5, 7, 7, 7, 7, 7, 6, 7, 7, 7])"
      ]
     },
     "execution_count": 3,
     "metadata": {},
     "output_type": "execute_result"
    }
   ],
   "source": [
    "np.load('data/index2class.npy')"
   ]
  },
  {
   "cell_type": "code",
   "execution_count": null,
   "id": "3c38f74b",
   "metadata": {},
   "outputs": [],
   "source": []
  }
 ],
 "metadata": {
  "kernelspec": {
   "display_name": "Python 3 (ipykernel)",
   "language": "python",
   "name": "python3"
  },
  "language_info": {
   "codemirror_mode": {
    "name": "ipython",
    "version": 3
   },
   "file_extension": ".py",
   "mimetype": "text/x-python",
   "name": "python",
   "nbconvert_exporter": "python",
   "pygments_lexer": "ipython3",
   "version": "3.8.13"
  }
 },
 "nbformat": 4,
 "nbformat_minor": 5
}

{
 "cells": [
  {
   "cell_type": "code",
   "execution_count": null,
   "id": "7472c1f7",
   "metadata": {},
   "outputs": [],
   "source": [
    "from comet_ml import Optimizer\n",
    "from pytorch_lightning.loggers import CometLogger"
   ]
  },
  {
   "cell_type": "code",
   "execution_count": null,
   "id": "3509b284",
   "metadata": {
    "scrolled": true
   },
   "outputs": [],
   "source": [
    "ddd = {\"algorithm\": \"grid\",\n",
    " \"spec\": {\n",
    "    \"randomize\": True,\n",
    "    \"maxCombo\": 0,\n",
    "    \"metric\": \"loss\",\n",
    "    \"gridSize\": 10,\n",
    "    \"minSampleSize\": 100,\n",
    "    \"retryLimit\": 20,\n",
    "    \"retryAssignLimit\": 0,\n",
    " },\n",
    " \"parameters\": {\n",
    "     \"hidden-layer-size\": {\"type\": \"discrete\", \"values\": [16, 32]},\n",
    "     \"hidden2-layer-size\": {\"type\": \"discrete\", \"values\": [16, 32]},\n",
    " },\n",
    " \"name\": \"My Bayesian Search\",\n",
    " \"trials\": 1,\n",
    "}\n",
    "\n",
    "\n",
    "opt = Optimizer(ddd, \n",
    "    api_key=\"your-key\",\n",
    "    workspace=\"your-workspace\",  # Optional\n",
    "    project_name=\"your-project-name\",  # Optional\n",
    "        #experiment_name=\"Choose gamma //lower arch//150ep//W PCA.// RustamPreprocess(k=2)//makiloss//gamma=2/balance=2\", \n",
    "        #experiment_class=create_exp()\n",
    ")"
   ]
  },
  {
   "cell_type": "code",
   "execution_count": null,
   "id": "381e2024",
   "metadata": {
    "scrolled": true
   },
   "outputs": [],
   "source": [
    "i = 0\n",
    "for experiment in opt.get_experiments():\n",
    "    experiment.set_name(f\"Exp: {i}\")\n",
    "    experiment.log_metric(\"loss\", i, epoch=i)\n",
    "    # Test the model\n",
    "    print(experiment.get_parameter(\"hidden-layer-size\"), experiment.get_parameter(\"hidden2-layer-size\"))\n",
    "    experiment.end()\n",
    "    i += 1"
   ]
  },
  {
   "cell_type": "code",
   "execution_count": null,
   "id": "c00c69e7",
   "metadata": {},
   "outputs": [],
   "source": [
    "experiment.set_name(\"Exp 22222222222222222\")"
   ]
  },
  {
   "cell_type": "code",
   "execution_count": null,
   "id": "63914a3b",
   "metadata": {},
   "outputs": [],
   "source": [
    "experiment.end()"
   ]
  },
  {
   "cell_type": "code",
   "execution_count": null,
   "id": "974884cf",
   "metadata": {},
   "outputs": [],
   "source": []
  },
  {
   "cell_type": "code",
   "execution_count": null,
   "id": "7224697f",
   "metadata": {},
   "outputs": [],
   "source": [
    "Optimizer.get_experiments()"
   ]
  },
  {
   "cell_type": "code",
   "execution_count": null,
   "id": "bd3f1be4",
   "metadata": {},
   "outputs": [],
   "source": []
  },
  {
   "cell_type": "code",
   "execution_count": null,
   "id": "b1ee62f6",
   "metadata": {},
   "outputs": [],
   "source": [
    "experiment = Optimizer.get_experiments(ddd)"
   ]
  },
  {
   "cell_type": "code",
   "execution_count": null,
   "id": "495d2956",
   "metadata": {},
   "outputs": [],
   "source": [
    "next(experiment)"
   ]
  },
  {
   "cell_type": "code",
   "execution_count": null,
   "id": "dc8d9fdb",
   "metadata": {},
   "outputs": [],
   "source": [
    "ex = next(experiment)\n",
    "\n",
    "print(ex.get_parameter(\"hidden-layer-size\"), ex.get_parameter(\"hidden2-layer-size\"))"
   ]
  },
  {
   "cell_type": "code",
   "execution_count": null,
   "id": "fd3aa731",
   "metadata": {},
   "outputs": [],
   "source": []
  },
  {
   "cell_type": "code",
   "execution_count": null,
   "id": "7f52c032",
   "metadata": {},
   "outputs": [],
   "source": []
  },
  {
   "cell_type": "code",
   "execution_count": null,
   "id": "bca23416",
   "metadata": {},
   "outputs": [],
   "source": []
  }
 ],
 "metadata": {
  "kernelspec": {
   "display_name": "Python 3",
   "language": "python",
   "name": "python3"
  },
  "language_info": {
   "codemirror_mode": {
    "name": "ipython",
    "version": 3
   },
   "file_extension": ".py",
   "mimetype": "text/x-python",
   "name": "python",
   "nbconvert_exporter": "python",
   "pygments_lexer": "ipython3",
   "version": "3.8.8"
  }
 },
 "nbformat": 4,
 "nbformat_minor": 5
}

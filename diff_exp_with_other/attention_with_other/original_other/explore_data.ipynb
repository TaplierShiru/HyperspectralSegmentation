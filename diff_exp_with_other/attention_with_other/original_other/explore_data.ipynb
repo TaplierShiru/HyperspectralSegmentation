{
 "cells": [
  {
   "cell_type": "code",
   "execution_count": null,
   "id": "61f06579",
   "metadata": {},
   "outputs": [],
   "source": [
    "import numpy as np\n",
    "\n",
    "import matplotlib.pyplot as plt\n",
    "import seaborn as sns\n",
    "\n",
    "import glob\n",
    "import tqdm"
   ]
  },
  {
   "cell_type": "code",
   "execution_count": null,
   "id": "cb82125c",
   "metadata": {},
   "outputs": [],
   "source": [
    "KFOLD = 'kfold0'\n",
    "PREFIX_INFO_PATH = f'/home/rustam/hyperspecter_segmentation/danil_cave/kfolds_data_with_other/{KFOLD}/data'\n",
    "PATH_DATA = f'/raid/rustam/hyperspectral_dataset/diff_exp_with_other__attention_with_other/{KFOLD}'\n",
    "\n",
    "PREFIX_TRAIN = 'train'\n",
    "PREFIX_TEST = 'test'\n",
    "PREFIX_TEST_UNKNOWN = 'test_unknown'\n",
    "PREFIX_HSI = 'hsi'\n",
    "PREFIX_MASKS = 'masks'\n",
    "\n",
    "PATH_TRAIN_DATA = f'{PATH_DATA}/{PREFIX_TRAIN}'\n",
    "PATH_TEST_DATA = f'{PATH_DATA}/{PREFIX_TEST}'\n",
    "PATH_TEST_UNKNOWN_DATA = f'{PATH_DATA}/{PREFIX_TEST_UNKNOWN}'\n",
    "\n",
    "PATH_TRAIN_HSI_DATA = f'{PATH_TRAIN_DATA}/{PREFIX_HSI}'\n",
    "PATH_TRAIN_MASKS_DATA = f'{PATH_TRAIN_DATA}/{PREFIX_MASKS}'\n",
    "PATH_TEST_HSI_DATA = f'{PATH_TEST_DATA}/{PREFIX_HSI}'\n",
    "PATH_TEST_MASKS_DATA = f'{PATH_TEST_DATA}/{PREFIX_MASKS}'\n",
    "\n",
    "masks = []\n",
    "\n",
    "for single_path in tqdm.tqdm(glob.glob(PATH_TRAIN_MASKS_DATA + '/*')):\n",
    "    masks.append(np.load(single_path))"
   ]
  },
  {
   "cell_type": "code",
   "execution_count": null,
   "id": "67970ef3",
   "metadata": {},
   "outputs": [],
   "source": [
    "count_classes = dict([(str(i), 0) for i in range(8)])\n",
    "\n",
    "for mask in masks:\n",
    "    classes_on_mask = np.unique(mask)\n",
    "    for single_class in classes_on_mask:\n",
    "        count_classes[str(single_class)] += 1"
   ]
  },
  {
   "cell_type": "code",
   "execution_count": null,
   "id": "e251bfb1",
   "metadata": {},
   "outputs": [],
   "source": [
    "count_classes"
   ]
  },
  {
   "cell_type": "code",
   "execution_count": null,
   "id": "1858bf41",
   "metadata": {},
   "outputs": [],
   "source": [
    "index2class = np.load(f'{PREFIX_INFO_PATH}/index2class.npy')\n",
    "index2class"
   ]
  },
  {
   "cell_type": "code",
   "execution_count": null,
   "id": "053e13f9",
   "metadata": {},
   "outputs": [],
   "source": []
  },
  {
   "cell_type": "code",
   "execution_count": null,
   "id": "adae7d60",
   "metadata": {},
   "outputs": [],
   "source": []
  }
 ],
 "metadata": {
  "kernelspec": {
   "display_name": "Python 3 (ipykernel)",
   "language": "python",
   "name": "python3"
  },
  "language_info": {
   "codemirror_mode": {
    "name": "ipython",
    "version": 3
   },
   "file_extension": ".py",
   "mimetype": "text/x-python",
   "name": "python",
   "nbconvert_exporter": "python",
   "pygments_lexer": "ipython3",
   "version": "3.8.13"
  }
 },
 "nbformat": 4,
 "nbformat_minor": 5
}

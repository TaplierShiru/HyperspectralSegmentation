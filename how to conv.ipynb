{
 "cells": [
  {
   "cell_type": "code",
   "execution_count": null,
   "id": "095453ef",
   "metadata": {},
   "outputs": [],
   "source": [
    "import torch\n",
    "from torch import nn"
   ]
  },
  {
   "cell_type": "code",
   "execution_count": null,
   "id": "970b459a",
   "metadata": {},
   "outputs": [],
   "source": [
    "conv = nn.Conv3d(1, 16, kernel_size=(5, 5, 11), stride=(1, 1, 3), padding=(2, 2, 1))"
   ]
  },
  {
   "cell_type": "code",
   "execution_count": null,
   "id": "9f04dbe4",
   "metadata": {},
   "outputs": [],
   "source": [
    "conv(torch.randn(1, 1, 8, 8, 237)).shape"
   ]
  },
  {
   "cell_type": "code",
   "execution_count": null,
   "id": "72b1e4c6",
   "metadata": {},
   "outputs": [],
   "source": [
    "conv = nn.Conv3d(1, 16, kernel_size=(5, 5, 5), stride=(1, 1, 3), padding=(2, 2, 0))"
   ]
  },
  {
   "cell_type": "code",
   "execution_count": null,
   "id": "00fca860",
   "metadata": {},
   "outputs": [],
   "source": [
    "conv(torch.randn(1, 1, 8, 8, 77)).shape"
   ]
  },
  {
   "cell_type": "code",
   "execution_count": null,
   "id": "36661092",
   "metadata": {},
   "outputs": [],
   "source": [
    "conv = nn.Conv3d(1, 16, kernel_size=(5, 5, 5), stride=(1, 1, 1), padding=(2, 2, 0))"
   ]
  },
  {
   "cell_type": "code",
   "execution_count": null,
   "id": "57d8ad56",
   "metadata": {},
   "outputs": [],
   "source": [
    "conv(torch.randn(1, 1, 8, 8, 25)).shape"
   ]
  },
  {
   "cell_type": "code",
   "execution_count": null,
   "id": "a61c8d41",
   "metadata": {},
   "outputs": [],
   "source": [
    "conv = nn.Conv3d(1, 16, kernel_size=(5, 5, 5), stride=(1, 1, 1), padding=(2, 2, 0))"
   ]
  },
  {
   "cell_type": "code",
   "execution_count": null,
   "id": "e3ca2e06",
   "metadata": {},
   "outputs": [],
   "source": [
    "conv(torch.randn(1, 1, 8, 8, 21)).shape"
   ]
  },
  {
   "cell_type": "code",
   "execution_count": null,
   "id": "3839e030",
   "metadata": {},
   "outputs": [],
   "source": []
  },
  {
   "cell_type": "code",
   "execution_count": null,
   "id": "7588898f",
   "metadata": {},
   "outputs": [],
   "source": [
    "pool = nn.AvgPool2d(2, stride=1, padding=0)"
   ]
  },
  {
   "cell_type": "code",
   "execution_count": null,
   "id": "f66d90be",
   "metadata": {},
   "outputs": [],
   "source": [
    "pool(torch.randn(1, 64, 8, 8)).shape"
   ]
  },
  {
   "cell_type": "code",
   "execution_count": null,
   "id": "565e2001",
   "metadata": {},
   "outputs": [],
   "source": [
    "conv = nn.Conv3d(2, 4, (1, 1, 1), stride=1, padding=0)"
   ]
  },
  {
   "cell_type": "code",
   "execution_count": null,
   "id": "90d6817e",
   "metadata": {},
   "outputs": [],
   "source": [
    "conv(torch.randn(1, 2, 512, 512, 17)).shape"
   ]
  },
  {
   "cell_type": "code",
   "execution_count": null,
   "id": "147911af",
   "metadata": {},
   "outputs": [],
   "source": [
    "conv_up = nn.ConvTranspose2d(4, 2, 3, stride=2, padding=1, output_padding=1)"
   ]
  },
  {
   "cell_type": "code",
   "execution_count": null,
   "id": "7ea6801f",
   "metadata": {},
   "outputs": [],
   "source": [
    "conv_up(torch.randn(1, 4, 128, 128)).shape"
   ]
  },
  {
   "cell_type": "code",
   "execution_count": null,
   "id": "075d831e",
   "metadata": {},
   "outputs": [],
   "source": [
    "torch.concat()"
   ]
  },
  {
   "cell_type": "code",
   "execution_count": null,
   "id": "4d5e0943",
   "metadata": {},
   "outputs": [],
   "source": [
    "class MyClass:\n",
    "    pass\n"
   ]
  },
  {
   "cell_type": "code",
   "execution_count": null,
   "id": "5bfca092",
   "metadata": {},
   "outputs": [],
   "source": [
    "MyClass.__name__"
   ]
  },
  {
   "cell_type": "code",
   "execution_count": null,
   "id": "05897c8d",
   "metadata": {},
   "outputs": [],
   "source": [
    "class MySuperNet3D(nn.Module):\n",
    "    \n",
    "    def __init__(self, in_f=17, out_f=17, *args):\n",
    "        super().__init__()\n",
    "        #self.bn_start = nn.BatchNorm3d(in_f)\n",
    "        \n",
    "        self.conv1 = nn.Conv3d(1, 16, kernel_size=(3, 3, 11), stride=(1, 1, 3), padding=(1, 1, 6))\n",
    "        # (N, 16, 8, 8, 80)\n",
    "        self.bn1 = nn.BatchNorm3d(16)\n",
    "        self.act1 = nn.ReLU()\n",
    "        \n",
    "        self.conv2 = nn.Conv3d(16, 16, kernel_size=(3, 3, 5), stride=1, padding=(1, 1, 2))\n",
    "        # (N, 16, 8, 8, 80)\n",
    "        self.bn2 = nn.BatchNorm3d(16)\n",
    "        self.act2 = nn.ReLU()\n",
    "        \n",
    "        self.conv3 = nn.Conv3d(16, 16, kernel_size=(3, 3, 5), stride=1, padding=(1, 1, 2))\n",
    "        # (N, 16, 8, 8, 80)\n",
    "        self.bn3 = nn.BatchNorm3d(16)\n",
    "        self.act3 = nn.ReLU()\n",
    "        \n",
    "        self.conv4 = nn.Conv3d(16, 16, kernel_size=(2, 2, 5), stride=1, padding=(0, 0, 2))\n",
    "        # (N, 16, 7, 7, 80)\n",
    "        self.bn4 = nn.BatchNorm3d(16)\n",
    "        self.act4 = nn.ReLU()\n",
    "\n",
    "        self.pooling = nn.AvgPool3d((2, 2, 3), stride=(2, 2, 3), padding=(0, 0, 1))\n",
    "        # (N, 16, 3, 3, 27)\n",
    "        self.dropout = nn.Dropout(0.5)\n",
    "        self.linear = nn.Linear(16 * 3 * 3 * 27, 17, bias=False)\n",
    "    \n",
    "    def __call__(self, x):\n",
    "        # (N, 237, 8, 8) -> (N, 1, 8, 8, 237)\n",
    "        x = x.permute(0, 2, 3, 1)\n",
    "        x = x.unsqueeze(dim=1)\n",
    "        print(x.shape)\n",
    "        x = self.conv1(x)\n",
    "        x = self.bn1(x)\n",
    "        x = self.act1(x)\n",
    "        \n",
    "        x = self.conv2(x)\n",
    "        x = self.bn2(x)\n",
    "        x = self.act2(x)\n",
    "        \n",
    "        x = self.conv3(x)\n",
    "        x = self.bn3(x)\n",
    "        x = self.act3(x)\n",
    "        \n",
    "        x = self.conv4(x)\n",
    "        x = self.bn4(x)\n",
    "        x = self.act4(x)\n",
    "        print(x.shape)\n",
    "        x = self.pooling(x)\n",
    "        x = x.view(x.shape[0], -1) # (N, ...)\n",
    "        x = self.dropout(x)\n",
    "        print(x.shape)\n",
    "        x = self.linear(x)\n",
    "        return x"
   ]
  },
  {
   "cell_type": "code",
   "execution_count": null,
   "id": "7a5afefb",
   "metadata": {},
   "outputs": [],
   "source": [
    "net = MySuperNet3D()"
   ]
  },
  {
   "cell_type": "code",
   "execution_count": null,
   "id": "d16aa05f",
   "metadata": {},
   "outputs": [],
   "source": [
    "net(torch.randn(1, 237, 8, 8)).shape"
   ]
  },
  {
   "cell_type": "code",
   "execution_count": null,
   "id": "c2a755a2",
   "metadata": {},
   "outputs": [],
   "source": [
    "!nvidia-smi"
   ]
  },
  {
   "cell_type": "code",
   "execution_count": null,
   "id": "c19aba02",
   "metadata": {},
   "outputs": [],
   "source": []
  },
  {
   "cell_type": "code",
   "execution_count": null,
   "id": "cfed3100",
   "metadata": {},
   "outputs": [],
   "source": []
  }
 ],
 "metadata": {
  "kernelspec": {
   "display_name": "Python 3",
   "language": "python",
   "name": "python3"
  },
  "language_info": {
   "codemirror_mode": {
    "name": "ipython",
    "version": 3
   },
   "file_extension": ".py",
   "mimetype": "text/x-python",
   "name": "python",
   "nbconvert_exporter": "python",
   "pygments_lexer": "ipython3",
   "version": "3.8.8"
  }
 },
 "nbformat": 4,
 "nbformat_minor": 5
}
